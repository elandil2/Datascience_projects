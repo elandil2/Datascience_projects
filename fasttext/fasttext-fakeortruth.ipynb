{
 "cells": [
  {
   "cell_type": "code",
   "execution_count": 1,
   "id": "be6e6bc1",
   "metadata": {},
   "outputs": [],
   "source": [
    "import pandas as pd\n",
    "df1 = pd.read_csv('Fake.csv',usecols  =['text'])\n",
    "df2 = pd.read_csv('True.csv',usecols  =['text'])"
   ]
  },
  {
   "cell_type": "code",
   "execution_count": 2,
   "id": "232bd59d",
   "metadata": {},
   "outputs": [
    {
     "data": {
      "text/html": [
       "<div>\n",
       "<style scoped>\n",
       "    .dataframe tbody tr th:only-of-type {\n",
       "        vertical-align: middle;\n",
       "    }\n",
       "\n",
       "    .dataframe tbody tr th {\n",
       "        vertical-align: top;\n",
       "    }\n",
       "\n",
       "    .dataframe thead th {\n",
       "        text-align: right;\n",
       "    }\n",
       "</style>\n",
       "<table border=\"1\" class=\"dataframe\">\n",
       "  <thead>\n",
       "    <tr style=\"text-align: right;\">\n",
       "      <th></th>\n",
       "      <th>text</th>\n",
       "    </tr>\n",
       "  </thead>\n",
       "  <tbody>\n",
       "    <tr>\n",
       "      <th>0</th>\n",
       "      <td>Donald Trump just couldn t wish all Americans ...</td>\n",
       "    </tr>\n",
       "    <tr>\n",
       "      <th>1</th>\n",
       "      <td>House Intelligence Committee Chairman Devin Nu...</td>\n",
       "    </tr>\n",
       "    <tr>\n",
       "      <th>2</th>\n",
       "      <td>On Friday, it was revealed that former Milwauk...</td>\n",
       "    </tr>\n",
       "    <tr>\n",
       "      <th>3</th>\n",
       "      <td>On Christmas day, Donald Trump announced that ...</td>\n",
       "    </tr>\n",
       "    <tr>\n",
       "      <th>4</th>\n",
       "      <td>Pope Francis used his annual Christmas Day mes...</td>\n",
       "    </tr>\n",
       "  </tbody>\n",
       "</table>\n",
       "</div>"
      ],
      "text/plain": [
       "                                                text\n",
       "0  Donald Trump just couldn t wish all Americans ...\n",
       "1  House Intelligence Committee Chairman Devin Nu...\n",
       "2  On Friday, it was revealed that former Milwauk...\n",
       "3  On Christmas day, Donald Trump announced that ...\n",
       "4  Pope Francis used his annual Christmas Day mes..."
      ]
     },
     "execution_count": 2,
     "metadata": {},
     "output_type": "execute_result"
    }
   ],
   "source": [
    "df1.head()"
   ]
  },
  {
   "cell_type": "code",
   "execution_count": 3,
   "id": "46b00f21",
   "metadata": {},
   "outputs": [],
   "source": [
    "#There are 2 dataset so before we need  merge them we have to prepare it\n",
    "#Thing is there is no labelling so Fake.csv got all fake news so dataset didnt label at all but we did, cause we will merge them with real news and we need to know which one is real or fake.\n",
    "df1.insert(1, 'label', 'fake')"
   ]
  },
  {
   "cell_type": "code",
   "execution_count": 4,
   "id": "06e2b8e5",
   "metadata": {},
   "outputs": [],
   "source": [
    "#same steps for df2 too.\n",
    "df2.insert(1, 'label', 'real')"
   ]
  },
  {
   "cell_type": "code",
   "execution_count": 5,
   "id": "dfb2c88c",
   "metadata": {},
   "outputs": [],
   "source": [
    "df = pd.concat([df1,df2], axis = 0)"
   ]
  },
  {
   "cell_type": "code",
   "execution_count": 6,
   "id": "3f04e615",
   "metadata": {},
   "outputs": [
    {
     "data": {
      "text/plain": [
       "fake    23481\n",
       "real    21417\n",
       "Name: label, dtype: int64"
      ]
     },
     "execution_count": 6,
     "metadata": {},
     "output_type": "execute_result"
    }
   ],
   "source": [
    "# difference between labels not that much we can fix min sample and resample again but i'll not use it\n",
    "#Incase you need, i'll add codes as comment.\n",
    "df['label'].value_counts()"
   ]
  },
  {
   "cell_type": "code",
   "execution_count": 7,
   "id": "0c50b6c7",
   "metadata": {},
   "outputs": [],
   "source": [
    "min_samples = 5000\n",
    "df_fake = df[df.label==\"fake\"].sample(min_samples, random_state=2022)\n",
    "df_real = df[df.label==\"real\"].sample(min_samples, random_state=2022)\n",
    "#Then we can concat them again just we did it before.\n",
    "#After get minimum number of samples, we concat dataframe again. \n",
    "df = pd.concat([df_fake,df_real],axis=0)"
   ]
  },
  {
   "cell_type": "code",
   "execution_count": 8,
   "id": "99425014",
   "metadata": {},
   "outputs": [],
   "source": [
    "df = df.sample(frac=1)"
   ]
  },
  {
   "cell_type": "code",
   "execution_count": 9,
   "id": "b4508a88",
   "metadata": {},
   "outputs": [
    {
     "data": {
      "text/html": [
       "<div>\n",
       "<style scoped>\n",
       "    .dataframe tbody tr th:only-of-type {\n",
       "        vertical-align: middle;\n",
       "    }\n",
       "\n",
       "    .dataframe tbody tr th {\n",
       "        vertical-align: top;\n",
       "    }\n",
       "\n",
       "    .dataframe thead th {\n",
       "        text-align: right;\n",
       "    }\n",
       "</style>\n",
       "<table border=\"1\" class=\"dataframe\">\n",
       "  <thead>\n",
       "    <tr style=\"text-align: right;\">\n",
       "      <th></th>\n",
       "      <th>text</th>\n",
       "      <th>label</th>\n",
       "    </tr>\n",
       "  </thead>\n",
       "  <tbody>\n",
       "    <tr>\n",
       "      <th>9685</th>\n",
       "      <td>WASHINGTON (Reuters) - Republican John Kasich ...</td>\n",
       "      <td>real</td>\n",
       "    </tr>\n",
       "    <tr>\n",
       "      <th>17222</th>\n",
       "      <td>TRIPOLI (Reuters) - The Libyan capital s Mitig...</td>\n",
       "      <td>real</td>\n",
       "    </tr>\n",
       "    <tr>\n",
       "      <th>17707</th>\n",
       "      <td>Two nights ago, Mark Levin dropped a bombshell...</td>\n",
       "      <td>fake</td>\n",
       "    </tr>\n",
       "    <tr>\n",
       "      <th>15247</th>\n",
       "      <td>Summer snow is coming to Alaska just in time f...</td>\n",
       "      <td>fake</td>\n",
       "    </tr>\n",
       "    <tr>\n",
       "      <th>18115</th>\n",
       "      <td>This is a very big deal. It s very likely that...</td>\n",
       "      <td>fake</td>\n",
       "    </tr>\n",
       "  </tbody>\n",
       "</table>\n",
       "</div>"
      ],
      "text/plain": [
       "                                                    text label\n",
       "9685   WASHINGTON (Reuters) - Republican John Kasich ...  real\n",
       "17222  TRIPOLI (Reuters) - The Libyan capital s Mitig...  real\n",
       "17707  Two nights ago, Mark Levin dropped a bombshell...  fake\n",
       "15247  Summer snow is coming to Alaska just in time f...  fake\n",
       "18115  This is a very big deal. It s very likely that...  fake"
      ]
     },
     "execution_count": 9,
     "metadata": {},
     "output_type": "execute_result"
    }
   ],
   "source": [
    "df.head(5)"
   ]
  },
  {
   "cell_type": "code",
   "execution_count": 10,
   "id": "35bda0c8",
   "metadata": {},
   "outputs": [
    {
     "data": {
      "text/plain": [
       "array(['real', 'fake'], dtype=object)"
      ]
     },
     "execution_count": 10,
     "metadata": {},
     "output_type": "execute_result"
    }
   ],
   "source": [
    "#Lets check our categories\n",
    "df.label.unique()"
   ]
  },
  {
   "cell_type": "code",
   "execution_count": 11,
   "id": "835ed549",
   "metadata": {},
   "outputs": [],
   "source": [
    "#When you train a fasttext model, it expects labels to be specified with label prefix.\n",
    "#So we Created \n",
    "df['label'] = '__label__' + df['label'].astype(str)"
   ]
  },
  {
   "cell_type": "code",
   "execution_count": 12,
   "id": "7ea75238",
   "metadata": {},
   "outputs": [
    {
     "data": {
      "text/html": [
       "<div>\n",
       "<style scoped>\n",
       "    .dataframe tbody tr th:only-of-type {\n",
       "        vertical-align: middle;\n",
       "    }\n",
       "\n",
       "    .dataframe tbody tr th {\n",
       "        vertical-align: top;\n",
       "    }\n",
       "\n",
       "    .dataframe thead th {\n",
       "        text-align: right;\n",
       "    }\n",
       "</style>\n",
       "<table border=\"1\" class=\"dataframe\">\n",
       "  <thead>\n",
       "    <tr style=\"text-align: right;\">\n",
       "      <th></th>\n",
       "      <th>text</th>\n",
       "      <th>label</th>\n",
       "    </tr>\n",
       "  </thead>\n",
       "  <tbody>\n",
       "    <tr>\n",
       "      <th>9685</th>\n",
       "      <td>WASHINGTON (Reuters) - Republican John Kasich ...</td>\n",
       "      <td>__label__real</td>\n",
       "    </tr>\n",
       "    <tr>\n",
       "      <th>17222</th>\n",
       "      <td>TRIPOLI (Reuters) - The Libyan capital s Mitig...</td>\n",
       "      <td>__label__real</td>\n",
       "    </tr>\n",
       "    <tr>\n",
       "      <th>17707</th>\n",
       "      <td>Two nights ago, Mark Levin dropped a bombshell...</td>\n",
       "      <td>__label__fake</td>\n",
       "    </tr>\n",
       "    <tr>\n",
       "      <th>15247</th>\n",
       "      <td>Summer snow is coming to Alaska just in time f...</td>\n",
       "      <td>__label__fake</td>\n",
       "    </tr>\n",
       "    <tr>\n",
       "      <th>18115</th>\n",
       "      <td>This is a very big deal. It s very likely that...</td>\n",
       "      <td>__label__fake</td>\n",
       "    </tr>\n",
       "  </tbody>\n",
       "</table>\n",
       "</div>"
      ],
      "text/plain": [
       "                                                    text          label\n",
       "9685   WASHINGTON (Reuters) - Republican John Kasich ...  __label__real\n",
       "17222  TRIPOLI (Reuters) - The Libyan capital s Mitig...  __label__real\n",
       "17707  Two nights ago, Mark Levin dropped a bombshell...  __label__fake\n",
       "15247  Summer snow is coming to Alaska just in time f...  __label__fake\n",
       "18115  This is a very big deal. It s very likely that...  __label__fake"
      ]
     },
     "execution_count": 12,
     "metadata": {},
     "output_type": "execute_result"
    }
   ],
   "source": [
    "df.head()"
   ]
  },
  {
   "cell_type": "code",
   "execution_count": 13,
   "id": "a183698a",
   "metadata": {},
   "outputs": [],
   "source": [
    "import re\n",
    "# regEX funciton\n",
    "def preprocess(text):\n",
    "    text = re.sub(r'[^\\w\\s\\']',' ', text)\n",
    "    text = re.sub(' +', ' ', text)\n",
    "    return text.strip().lower()"
   ]
  },
  {
   "cell_type": "code",
   "execution_count": 14,
   "id": "4c20218e",
   "metadata": {},
   "outputs": [
    {
     "data": {
      "text/html": [
       "<div>\n",
       "<style scoped>\n",
       "    .dataframe tbody tr th:only-of-type {\n",
       "        vertical-align: middle;\n",
       "    }\n",
       "\n",
       "    .dataframe tbody tr th {\n",
       "        vertical-align: top;\n",
       "    }\n",
       "\n",
       "    .dataframe thead th {\n",
       "        text-align: right;\n",
       "    }\n",
       "</style>\n",
       "<table border=\"1\" class=\"dataframe\">\n",
       "  <thead>\n",
       "    <tr style=\"text-align: right;\">\n",
       "      <th></th>\n",
       "      <th>text</th>\n",
       "      <th>label</th>\n",
       "    </tr>\n",
       "  </thead>\n",
       "  <tbody>\n",
       "    <tr>\n",
       "      <th>9685</th>\n",
       "      <td>WASHINGTON (Reuters) - Republican John Kasich ...</td>\n",
       "      <td>__label__real WASHINGTON (Reuters) - Republica...</td>\n",
       "    </tr>\n",
       "    <tr>\n",
       "      <th>17222</th>\n",
       "      <td>TRIPOLI (Reuters) - The Libyan capital s Mitig...</td>\n",
       "      <td>__label__real TRIPOLI (Reuters) - The Libyan c...</td>\n",
       "    </tr>\n",
       "    <tr>\n",
       "      <th>17707</th>\n",
       "      <td>Two nights ago, Mark Levin dropped a bombshell...</td>\n",
       "      <td>__label__fake Two nights ago, Mark Levin dropp...</td>\n",
       "    </tr>\n",
       "    <tr>\n",
       "      <th>15247</th>\n",
       "      <td>Summer snow is coming to Alaska just in time f...</td>\n",
       "      <td>__label__fake Summer snow is coming to Alaska ...</td>\n",
       "    </tr>\n",
       "    <tr>\n",
       "      <th>18115</th>\n",
       "      <td>This is a very big deal. It s very likely that...</td>\n",
       "      <td>__label__fake This is a very big deal. It s ve...</td>\n",
       "    </tr>\n",
       "  </tbody>\n",
       "</table>\n",
       "</div>"
      ],
      "text/plain": [
       "                                                    text  \\\n",
       "9685   WASHINGTON (Reuters) - Republican John Kasich ...   \n",
       "17222  TRIPOLI (Reuters) - The Libyan capital s Mitig...   \n",
       "17707  Two nights ago, Mark Levin dropped a bombshell...   \n",
       "15247  Summer snow is coming to Alaska just in time f...   \n",
       "18115  This is a very big deal. It s very likely that...   \n",
       "\n",
       "                                                   label  \n",
       "9685   __label__real WASHINGTON (Reuters) - Republica...  \n",
       "17222  __label__real TRIPOLI (Reuters) - The Libyan c...  \n",
       "17707  __label__fake Two nights ago, Mark Levin dropp...  \n",
       "15247  __label__fake Summer snow is coming to Alaska ...  \n",
       "18115  __label__fake This is a very big deal. It s ve...  "
      ]
     },
     "execution_count": 14,
     "metadata": {},
     "output_type": "execute_result"
    }
   ],
   "source": [
    "df['label'] = df['label']+ ' ' + df['text']\n",
    "df.head()"
   ]
  },
  {
   "cell_type": "code",
   "execution_count": 15,
   "id": "7f84a826",
   "metadata": {},
   "outputs": [],
   "source": [
    "#mapping preprocess for everyrow.\n",
    "df['label'] = df['label'].map(preprocess)"
   ]
  },
  {
   "cell_type": "code",
   "execution_count": 16,
   "id": "e5a35f38",
   "metadata": {},
   "outputs": [
    {
     "data": {
      "text/html": [
       "<div>\n",
       "<style scoped>\n",
       "    .dataframe tbody tr th:only-of-type {\n",
       "        vertical-align: middle;\n",
       "    }\n",
       "\n",
       "    .dataframe tbody tr th {\n",
       "        vertical-align: top;\n",
       "    }\n",
       "\n",
       "    .dataframe thead th {\n",
       "        text-align: right;\n",
       "    }\n",
       "</style>\n",
       "<table border=\"1\" class=\"dataframe\">\n",
       "  <thead>\n",
       "    <tr style=\"text-align: right;\">\n",
       "      <th></th>\n",
       "      <th>text</th>\n",
       "      <th>label</th>\n",
       "    </tr>\n",
       "  </thead>\n",
       "  <tbody>\n",
       "    <tr>\n",
       "      <th>9685</th>\n",
       "      <td>WASHINGTON (Reuters) - Republican John Kasich ...</td>\n",
       "      <td>__label__real washington reuters republican jo...</td>\n",
       "    </tr>\n",
       "    <tr>\n",
       "      <th>17222</th>\n",
       "      <td>TRIPOLI (Reuters) - The Libyan capital s Mitig...</td>\n",
       "      <td>__label__real tripoli reuters the libyan capit...</td>\n",
       "    </tr>\n",
       "    <tr>\n",
       "      <th>17707</th>\n",
       "      <td>Two nights ago, Mark Levin dropped a bombshell...</td>\n",
       "      <td>__label__fake two nights ago mark levin droppe...</td>\n",
       "    </tr>\n",
       "    <tr>\n",
       "      <th>15247</th>\n",
       "      <td>Summer snow is coming to Alaska just in time f...</td>\n",
       "      <td>__label__fake summer snow is coming to alaska ...</td>\n",
       "    </tr>\n",
       "    <tr>\n",
       "      <th>18115</th>\n",
       "      <td>This is a very big deal. It s very likely that...</td>\n",
       "      <td>__label__fake this is a very big deal it s ver...</td>\n",
       "    </tr>\n",
       "  </tbody>\n",
       "</table>\n",
       "</div>"
      ],
      "text/plain": [
       "                                                    text  \\\n",
       "9685   WASHINGTON (Reuters) - Republican John Kasich ...   \n",
       "17222  TRIPOLI (Reuters) - The Libyan capital s Mitig...   \n",
       "17707  Two nights ago, Mark Levin dropped a bombshell...   \n",
       "15247  Summer snow is coming to Alaska just in time f...   \n",
       "18115  This is a very big deal. It s very likely that...   \n",
       "\n",
       "                                                   label  \n",
       "9685   __label__real washington reuters republican jo...  \n",
       "17222  __label__real tripoli reuters the libyan capit...  \n",
       "17707  __label__fake two nights ago mark levin droppe...  \n",
       "15247  __label__fake summer snow is coming to alaska ...  \n",
       "18115  __label__fake this is a very big deal it s ver...  "
      ]
     },
     "execution_count": 16,
     "metadata": {},
     "output_type": "execute_result"
    }
   ],
   "source": [
    "df.head()"
   ]
  },
  {
   "cell_type": "code",
   "execution_count": 17,
   "id": "7664e72f",
   "metadata": {},
   "outputs": [],
   "source": [
    "from sklearn.model_selection import train_test_split"
   ]
  },
  {
   "cell_type": "code",
   "execution_count": 18,
   "id": "6a768d07",
   "metadata": {},
   "outputs": [],
   "source": [
    "train, test = train_test_split(df, test_size=0.2)"
   ]
  },
  {
   "cell_type": "code",
   "execution_count": 20,
   "id": "cbda8a83",
   "metadata": {},
   "outputs": [
    {
     "data": {
      "text/plain": [
       "((8000, 2), (2000, 2))"
      ]
     },
     "execution_count": 20,
     "metadata": {},
     "output_type": "execute_result"
    }
   ],
   "source": [
    "train.shape , test.shape"
   ]
  },
  {
   "cell_type": "code",
   "execution_count": 19,
   "id": "3365beb1",
   "metadata": {},
   "outputs": [],
   "source": [
    "#We will save train and test datasets as csv and train model on csvfile also tests on csv file.\n",
    "train.to_csv('news.train', columns=['label'], index=False, header=False)\n",
    "test.to_csv('news.test', columns = ['label'], index=False, header=False)"
   ]
  },
  {
   "cell_type": "code",
   "execution_count": 22,
   "id": "d25a05e2",
   "metadata": {},
   "outputs": [],
   "source": [
    "#train on csv\n",
    "import fasttext\n",
    "model = fasttext.train_supervised(input='news.train')"
   ]
  },
  {
   "cell_type": "code",
   "execution_count": 23,
   "id": "41c2fa7f",
   "metadata": {},
   "outputs": [
    {
     "data": {
      "text/html": [
       "<div>\n",
       "<style scoped>\n",
       "    .dataframe tbody tr th:only-of-type {\n",
       "        vertical-align: middle;\n",
       "    }\n",
       "\n",
       "    .dataframe tbody tr th {\n",
       "        vertical-align: top;\n",
       "    }\n",
       "\n",
       "    .dataframe thead th {\n",
       "        text-align: right;\n",
       "    }\n",
       "</style>\n",
       "<table border=\"1\" class=\"dataframe\">\n",
       "  <thead>\n",
       "    <tr style=\"text-align: right;\">\n",
       "      <th></th>\n",
       "      <th>text</th>\n",
       "      <th>label</th>\n",
       "    </tr>\n",
       "  </thead>\n",
       "  <tbody>\n",
       "    <tr>\n",
       "      <th>9685</th>\n",
       "      <td>WASHINGTON (Reuters) - Republican John Kasich ...</td>\n",
       "      <td>__label__real washington reuters republican jo...</td>\n",
       "    </tr>\n",
       "    <tr>\n",
       "      <th>17222</th>\n",
       "      <td>TRIPOLI (Reuters) - The Libyan capital s Mitig...</td>\n",
       "      <td>__label__real tripoli reuters the libyan capit...</td>\n",
       "    </tr>\n",
       "    <tr>\n",
       "      <th>17707</th>\n",
       "      <td>Two nights ago, Mark Levin dropped a bombshell...</td>\n",
       "      <td>__label__fake two nights ago mark levin droppe...</td>\n",
       "    </tr>\n",
       "    <tr>\n",
       "      <th>15247</th>\n",
       "      <td>Summer snow is coming to Alaska just in time f...</td>\n",
       "      <td>__label__fake summer snow is coming to alaska ...</td>\n",
       "    </tr>\n",
       "    <tr>\n",
       "      <th>18115</th>\n",
       "      <td>This is a very big deal. It s very likely that...</td>\n",
       "      <td>__label__fake this is a very big deal it s ver...</td>\n",
       "    </tr>\n",
       "  </tbody>\n",
       "</table>\n",
       "</div>"
      ],
      "text/plain": [
       "                                                    text  \\\n",
       "9685   WASHINGTON (Reuters) - Republican John Kasich ...   \n",
       "17222  TRIPOLI (Reuters) - The Libyan capital s Mitig...   \n",
       "17707  Two nights ago, Mark Levin dropped a bombshell...   \n",
       "15247  Summer snow is coming to Alaska just in time f...   \n",
       "18115  This is a very big deal. It s very likely that...   \n",
       "\n",
       "                                                   label  \n",
       "9685   __label__real washington reuters republican jo...  \n",
       "17222  __label__real tripoli reuters the libyan capit...  \n",
       "17707  __label__fake two nights ago mark levin droppe...  \n",
       "15247  __label__fake summer snow is coming to alaska ...  \n",
       "18115  __label__fake this is a very big deal it s ver...  "
      ]
     },
     "execution_count": 23,
     "metadata": {},
     "output_type": "execute_result"
    }
   ],
   "source": [
    "df.head(5)"
   ]
  },
  {
   "cell_type": "code",
   "execution_count": 24,
   "id": "4e804b03",
   "metadata": {},
   "outputs": [
    {
     "name": "stdout",
     "output_type": "stream",
     "text": [
      "Test size, precision score , recall(2000, 0.974, 0.974)\n"
     ]
    }
   ],
   "source": [
    "print('Test size, precision score , recall'+str(model.test('news.test')))"
   ]
  },
  {
   "cell_type": "code",
   "execution_count": 25,
   "id": "3c1903ab",
   "metadata": {},
   "outputs": [
    {
     "data": {
      "text/plain": [
       "(('__label__fake',), array([1.00001001]))"
      ]
     },
     "execution_count": 25,
     "metadata": {},
     "output_type": "execute_result"
    }
   ],
   "source": [
    "#This is so funny :).\n",
    "model.predict(\"Trump\")"
   ]
  },
  {
   "cell_type": "code",
   "execution_count": 26,
   "id": "aff641a5",
   "metadata": {},
   "outputs": [
    {
     "data": {
      "text/plain": [
       "(('__label__fake',), array([1.00001001]))"
      ]
     },
     "execution_count": 26,
     "metadata": {},
     "output_type": "execute_result"
    }
   ],
   "source": [
    "model.predict(\"Reuters\")"
   ]
  },
  {
   "cell_type": "code",
   "execution_count": 31,
   "id": "23309874",
   "metadata": {},
   "outputs": [
    {
     "data": {
      "text/plain": [
       "(('__label__fake',), array([0.98522013]))"
      ]
     },
     "execution_count": 31,
     "metadata": {},
     "output_type": "execute_result"
    }
   ],
   "source": [
    "model.predict(\"Former CIA Director Slams Trump Over UN Bullying, Openly Suggests He’s Acting Like A Dictator (TWEET),Many people have raised the alarm regarding the fact that Donald Trump is dangerously close to becoming an autocrat. The thing is, democracies become autocracies right under the people s noses, because they can often look like democracies in the beginning phases. This was explained by Republican David Frum just a couple of months into Donald Trump s presidency, in a piece in The Atlantic called  How to Build an Autocracy. In fact, if you really look critically at what is happening right now   the systematic discrediting of vital institutions such as the free press and the Federal Bureau of Investigation as well the direct weaponization of the Department of Justice in order to go after Trump s former political opponent, 2016 Democratic nominee Hillary Clinton, and you have the makings of an autocracy. We are more than well on our way. Further, one chamber of Congress, the House of Representatives, already has a rogue band of Republicans who are running a parallel investigation to the official Russian collusion investigation, with the explicit intent of undermining and discrediting the idea that Trump could have possibly done anything wrong with the Russians in order to swing the 2016 election in his favor.All of that is just for starters, too. Now, we have Trump making United Nations Ambassador Nikki Haley bully and threaten other countries in the United Nations who voted against Trump s decision to change U.S. policy when it comes to recognition of Jerusalem as the capital of the Jewish State. Well, one expert, who is usually quite measured, has had enough of Trump s autocratic antics: Former CIA Director John O. Brennan. The seasoned spy took to Trump s favorite platform, Twitter, and blasted the decision:Trump Admin threat to retaliate against nations that exercise sovereign right in UN to oppose US position on Jerusalem is beyond outrageous. Shows @realDonaldTrump expects blind loyalty and subservience from everyone qualities usually found in narcissistic, vengeful autocrats.\")"
   ]
  },
  {
   "cell_type": "code",
   "execution_count": null,
   "id": "e6de9493",
   "metadata": {},
   "outputs": [],
   "source": []
  }
 ],
 "metadata": {
  "kernelspec": {
   "display_name": "Python 3",
   "language": "python",
   "name": "python3"
  },
  "language_info": {
   "codemirror_mode": {
    "name": "ipython",
    "version": 3
   },
   "file_extension": ".py",
   "mimetype": "text/x-python",
   "name": "python",
   "nbconvert_exporter": "python",
   "pygments_lexer": "ipython3",
   "version": "3.8.13"
  }
 },
 "nbformat": 4,
 "nbformat_minor": 5
}
