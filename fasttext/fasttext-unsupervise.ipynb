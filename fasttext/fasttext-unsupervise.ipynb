{
 "cells": [
  {
   "cell_type": "code",
   "execution_count": 1,
   "id": "dba06ecd",
   "metadata": {},
   "outputs": [],
   "source": [
    "#import fasttext library\n",
    "# dataset from https://www.kaggle.com/datasets/sooryaprakash12/cleaned-indian-recipes-dataset you can download\n",
    "import fasttext"
   ]
  },
  {
   "cell_type": "code",
   "execution_count": 2,
   "id": "cb0e4a64",
   "metadata": {},
   "outputs": [
    {
     "name": "stderr",
     "output_type": "stream",
     "text": [
      "Warning : `load_model` does not return WordVectorModel or SupervisedModel any more, but a `FastText` object which is very similar.\n"
     ]
    },
    {
     "data": {
      "text/plain": [
       "[(0.7517593502998352, 'bad'),\n",
       " (0.7426098585128784, 'great'),\n",
       " (0.7299689054489136, 'decent'),\n",
       " (0.7123614549636841, 'nice'),\n",
       " (0.6796907186508179, 'Good'),\n",
       " (0.6737031936645508, 'excellent'),\n",
       " (0.669592022895813, 'goood'),\n",
       " (0.6602178812026978, 'ggod'),\n",
       " (0.6479219794273376, 'semi-good'),\n",
       " (0.6417751908302307, 'good.Good')]"
      ]
     },
     "execution_count": 2,
     "metadata": {},
     "output_type": "execute_result"
    }
   ],
   "source": [
    "#loading fasttext preload model which trained from wikipedia data\n",
    "model_en = fasttext.load_model('cc.en.300.bin')\n",
    "\n",
    "model_en.get_nearest_neighbors('good')"
   ]
  },
  {
   "cell_type": "code",
   "execution_count": 3,
   "id": "89800a09",
   "metadata": {},
   "outputs": [
    {
     "data": {
      "text/plain": [
       "['__class__',\n",
       " '__contains__',\n",
       " '__delattr__',\n",
       " '__dict__',\n",
       " '__dir__',\n",
       " '__doc__',\n",
       " '__eq__',\n",
       " '__format__',\n",
       " '__ge__',\n",
       " '__getattribute__',\n",
       " '__getitem__',\n",
       " '__gt__',\n",
       " '__hash__',\n",
       " '__init__',\n",
       " '__init_subclass__',\n",
       " '__le__',\n",
       " '__lt__',\n",
       " '__module__',\n",
       " '__ne__',\n",
       " '__new__',\n",
       " '__reduce__',\n",
       " '__reduce_ex__',\n",
       " '__repr__',\n",
       " '__setattr__',\n",
       " '__sizeof__',\n",
       " '__str__',\n",
       " '__subclasshook__',\n",
       " '__weakref__',\n",
       " '_labels',\n",
       " '_words',\n",
       " 'f',\n",
       " 'get_analogies',\n",
       " 'get_dimension',\n",
       " 'get_input_matrix',\n",
       " 'get_input_vector',\n",
       " 'get_label_id',\n",
       " 'get_labels',\n",
       " 'get_line',\n",
       " 'get_meter',\n",
       " 'get_nearest_neighbors',\n",
       " 'get_output_matrix',\n",
       " 'get_sentence_vector',\n",
       " 'get_subword_id',\n",
       " 'get_subwords',\n",
       " 'get_word_id',\n",
       " 'get_word_vector',\n",
       " 'get_words',\n",
       " 'is_quantized',\n",
       " 'labels',\n",
       " 'predict',\n",
       " 'quantize',\n",
       " 'save_model',\n",
       " 'set_args',\n",
       " 'set_matrices',\n",
       " 'test',\n",
       " 'test_label',\n",
       " 'words']"
      ]
     },
     "execution_count": 3,
     "metadata": {},
     "output_type": "execute_result"
    }
   ],
   "source": [
    "dir(model_en)"
   ]
  },
  {
   "cell_type": "code",
   "execution_count": 4,
   "id": "04139123",
   "metadata": {},
   "outputs": [
    {
     "data": {
      "text/plain": [
       "(300,)"
      ]
     },
     "execution_count": 4,
     "metadata": {},
     "output_type": "execute_result"
    }
   ],
   "source": [
    "#shape of word vector\n",
    "model_en.get_word_vector(\"good\").shape"
   ]
  },
  {
   "cell_type": "code",
   "execution_count": 5,
   "id": "5f1a4a67",
   "metadata": {},
   "outputs": [
    {
     "data": {
      "text/plain": [
       "[(0.610385537147522, 'texting'),\n",
       " (0.5203558802604675, 'phone-calling'),\n",
       " (0.5153835415840149, 'cellphone'),\n",
       " (0.5135326981544495, 'cell-phone'),\n",
       " (0.5117910504341125, 'dialing'),\n",
       " (0.5087355971336365, 'texing'),\n",
       " (0.5079342722892761, 'text-messaging'),\n",
       " (0.500900387763977, 'txting'),\n",
       " (0.4960441589355469, 'texting.'),\n",
       " (0.4951859414577484, 'Texting')]"
      ]
     },
     "execution_count": 5,
     "metadata": {},
     "output_type": "execute_result"
    }
   ],
   "source": [
    "#analogy between words\n",
    "model_en.get_analogies(\"driving\",\"car\",\"phone\")"
   ]
  },
  {
   "cell_type": "code",
   "execution_count": 6,
   "id": "5c078bd6",
   "metadata": {},
   "outputs": [
    {
     "data": {
      "text/plain": [
       "[(0.5925012230873108, 'ice-cream'),\n",
       " (0.5192423462867737, 'melted'),\n",
       " (0.5173644423484802, 'melts'),\n",
       " (0.5129185318946838, 'choclate'),\n",
       " (0.5111598968505859, 'Ice-cream'),\n",
       " (0.5021758079528809, 'chocolate'),\n",
       " (0.5007271766662598, 'choc'),\n",
       " (0.49950891733169556, 'icecreams'),\n",
       " (0.4929066300392151, 'melt.'),\n",
       " (0.49274390935897827, 'fudge')]"
      ]
     },
     "execution_count": 6,
     "metadata": {},
     "output_type": "execute_result"
    }
   ],
   "source": [
    "model_en.get_analogies(\"icecream\",\"sun\",\"melt\")"
   ]
  },
  {
   "cell_type": "code",
   "execution_count": 7,
   "id": "2c92a016",
   "metadata": {},
   "outputs": [
    {
     "data": {
      "text/plain": [
       "[(0.776183009147644, 'glasss'),\n",
       " (0.7423396706581116, 'glass-'),\n",
       " (0.732632577419281, 'glass.The'),\n",
       " (0.7306069731712341, 'glass.It'),\n",
       " (0.7289777398109436, 'glass.This'),\n",
       " (0.7256469130516052, 'galss'),\n",
       " (0.7086431384086609, 'glass.'),\n",
       " (0.7013285756111145, 'glass.I'),\n",
       " (0.6988192200660706, 'glas'),\n",
       " (0.6975032687187195, 'glass.A')]"
      ]
     },
     "execution_count": 7,
     "metadata": {},
     "output_type": "execute_result"
    }
   ],
   "source": [
    "#This is really unefficient.\n",
    "#Most likely misspells or using in sentence\n",
    "model_en.get_nearest_neighbors('glass')"
   ]
  },
  {
   "cell_type": "code",
   "execution_count": 10,
   "id": "85f4cff6",
   "metadata": {},
   "outputs": [
    {
     "data": {
      "text/plain": [
       "[(0.7846586108207703, 'Burritos'),\n",
       " (0.6752224564552307, 'Tacos'),\n",
       " (0.6727135181427002, 'burrito'),\n",
       " (0.6555072665214539, 'Taco'),\n",
       " (0.644167423248291, 'Quesadilla'),\n",
       " (0.6174156665802002, 'Fajita'),\n",
       " (0.6139159202575684, 'burritos'),\n",
       " (0.6047889590263367, 'Burger'),\n",
       " (0.5949423313140869, 'Taqueria'),\n",
       " (0.5919716954231262, 'Currito')]"
      ]
     },
     "execution_count": 10,
     "metadata": {},
     "output_type": "execute_result"
    }
   ],
   "source": [
    "#we will use it after trained model , lets see anything will change.\n",
    "model_en.get_nearest_neighbors(\"Burrito\")"
   ]
  },
  {
   "cell_type": "code",
   "execution_count": 12,
   "id": "b3c67d92",
   "metadata": {},
   "outputs": [
    {
     "data": {
      "text/plain": [
       "[(0.8563978672027588, 'kheer'),\n",
       " (0.8392286896705627, 'burfi'),\n",
       " (0.8193163871765137, 'Halwa'),\n",
       " (0.7894062995910645, 'kesari'),\n",
       " (0.778471827507019, 'payasam'),\n",
       " (0.7706475853919983, 'burfis'),\n",
       " (0.7590622901916504, 'laddoo'),\n",
       " (0.7504664659500122, 'ladoo'),\n",
       " (0.7471016645431519, 'rabdi'),\n",
       " (0.7396334409713745, 'laddu')]"
      ]
     },
     "execution_count": 12,
     "metadata": {},
     "output_type": "execute_result"
    }
   ],
   "source": [
    "model_en.get_nearest_neighbors(\"halwa\")"
   ]
  },
  {
   "cell_type": "code",
   "execution_count": 13,
   "id": "e30bf7d7",
   "metadata": {},
   "outputs": [
    {
     "data": {
      "text/plain": [
       "[(0.7291638255119324, 'Mexican'),\n",
       " (0.7061578631401062, 'mexicans'),\n",
       " (0.6828571557998657, 'peruvian'),\n",
       " (0.6661621332168579, 'tex-mex'),\n",
       " (0.659814715385437, 'mexico'),\n",
       " (0.6558065414428711, 'colombian'),\n",
       " (0.6478626132011414, 'honduran'),\n",
       " (0.6470993757247925, 'texmex'),\n",
       " (0.6429786682128906, 'mexican.'),\n",
       " (0.6429348587989807, 'Mexcian')]"
      ]
     },
     "execution_count": 13,
     "metadata": {},
     "output_type": "execute_result"
    }
   ],
   "source": [
    "model_en.get_nearest_neighbors(\"mexican\")"
   ]
  },
  {
   "cell_type": "code",
   "execution_count": 14,
   "id": "53029689",
   "metadata": {},
   "outputs": [
    {
     "data": {
      "text/plain": [
       "[(0.7803441286087036, 'pencils'),\n",
       " (0.7328192591667175, 'pencil-'),\n",
       " (0.721291720867157, 'Pencil')]"
      ]
     },
     "execution_count": 14,
     "metadata": {},
     "output_type": "execute_result"
    }
   ],
   "source": [
    "model_en.get_nearest_neighbors(\"pencil\", k=3)"
   ]
  },
  {
   "cell_type": "code",
   "execution_count": 15,
   "id": "d66d4a47",
   "metadata": {},
   "outputs": [],
   "source": [
    "#Lets train pretrained english dataset on indian cusine dataset\n",
    "import pandas as pd\n",
    "\n",
    "df = pd.read_csv('Cleaned_Indian_Food_Dataset.csv')"
   ]
  },
  {
   "cell_type": "code",
   "execution_count": 16,
   "id": "07480895",
   "metadata": {},
   "outputs": [
    {
     "name": "stdout",
     "output_type": "stream",
     "text": [
      "(5938, 9)\n"
     ]
    }
   ],
   "source": [
    "print(df.shape)"
   ]
  },
  {
   "cell_type": "code",
   "execution_count": 17,
   "id": "b474061a",
   "metadata": {},
   "outputs": [
    {
     "data": {
      "text/html": [
       "<div>\n",
       "<style scoped>\n",
       "    .dataframe tbody tr th:only-of-type {\n",
       "        vertical-align: middle;\n",
       "    }\n",
       "\n",
       "    .dataframe tbody tr th {\n",
       "        vertical-align: top;\n",
       "    }\n",
       "\n",
       "    .dataframe thead th {\n",
       "        text-align: right;\n",
       "    }\n",
       "</style>\n",
       "<table border=\"1\" class=\"dataframe\">\n",
       "  <thead>\n",
       "    <tr style=\"text-align: right;\">\n",
       "      <th></th>\n",
       "      <th>TranslatedRecipeName</th>\n",
       "      <th>TranslatedIngredients</th>\n",
       "      <th>TotalTimeInMins</th>\n",
       "      <th>Cuisine</th>\n",
       "      <th>TranslatedInstructions</th>\n",
       "      <th>URL</th>\n",
       "      <th>Cleaned-Ingredients</th>\n",
       "      <th>image-url</th>\n",
       "      <th>Ingredient-count</th>\n",
       "    </tr>\n",
       "  </thead>\n",
       "  <tbody>\n",
       "    <tr>\n",
       "      <th>0</th>\n",
       "      <td>Masala Karela Recipe</td>\n",
       "      <td>1 tablespoon Red Chilli powder,3 tablespoon Gr...</td>\n",
       "      <td>45</td>\n",
       "      <td>Indian</td>\n",
       "      <td>To begin making the Masala Karela Recipe,de-se...</td>\n",
       "      <td>https://www.archanaskitchen.com/masala-karela-...</td>\n",
       "      <td>salt,amchur (dry mango powder),karela (bitter ...</td>\n",
       "      <td>https://www.archanaskitchen.com/images/archana...</td>\n",
       "      <td>10</td>\n",
       "    </tr>\n",
       "    <tr>\n",
       "      <th>1</th>\n",
       "      <td>Spicy Tomato Rice (Recipe)</td>\n",
       "      <td>2 teaspoon cashew - or peanuts, 1/2 Teaspoon ...</td>\n",
       "      <td>15</td>\n",
       "      <td>South Indian Recipes</td>\n",
       "      <td>To make tomato puliogere, first cut the tomato...</td>\n",
       "      <td>https://www.archanaskitchen.com/spicy-tomato-r...</td>\n",
       "      <td>tomato,salt,chickpea lentils,green chilli,rice...</td>\n",
       "      <td>https://www.archanaskitchen.com/images/archana...</td>\n",
       "      <td>12</td>\n",
       "    </tr>\n",
       "    <tr>\n",
       "      <th>2</th>\n",
       "      <td>Ragi Semiya Upma Recipe - Ragi Millet Vermicel...</td>\n",
       "      <td>1 Onion - sliced,1 teaspoon White Urad Dal (Sp...</td>\n",
       "      <td>50</td>\n",
       "      <td>South Indian Recipes</td>\n",
       "      <td>To begin making the Ragi Vermicelli Recipe, fi...</td>\n",
       "      <td>https://www.archanaskitchen.com/ragi-vermicell...</td>\n",
       "      <td>salt,rice vermicelli noodles (thin),asafoetida...</td>\n",
       "      <td>https://www.archanaskitchen.com/images/archana...</td>\n",
       "      <td>12</td>\n",
       "    </tr>\n",
       "    <tr>\n",
       "      <th>3</th>\n",
       "      <td>Gongura Chicken Curry Recipe - Andhra Style Go...</td>\n",
       "      <td>1/2 teaspoon Turmeric powder (Haldi),1 tablesp...</td>\n",
       "      <td>45</td>\n",
       "      <td>Andhra</td>\n",
       "      <td>To begin making Gongura Chicken Curry Recipe f...</td>\n",
       "      <td>https://www.archanaskitchen.com/gongura-chicke...</td>\n",
       "      <td>tomato,salt,ginger,sorrel leaves (gongura),fen...</td>\n",
       "      <td>https://www.archanaskitchen.com/images/archana...</td>\n",
       "      <td>15</td>\n",
       "    </tr>\n",
       "    <tr>\n",
       "      <th>4</th>\n",
       "      <td>Andhra Style Alam Pachadi Recipe - Adrak Chutn...</td>\n",
       "      <td>oil - as per use, 1 tablespoon coriander seed...</td>\n",
       "      <td>30</td>\n",
       "      <td>Andhra</td>\n",
       "      <td>To make Andhra Style Alam Pachadi, first heat ...</td>\n",
       "      <td>https://www.archanaskitchen.com/andhra-style-a...</td>\n",
       "      <td>tomato,salt,ginger,red chillies,curry,asafoeti...</td>\n",
       "      <td>https://www.archanaskitchen.com/images/archana...</td>\n",
       "      <td>12</td>\n",
       "    </tr>\n",
       "    <tr>\n",
       "      <th>5</th>\n",
       "      <td>Pudina Khara Pongal Recipe (Rice and Lentils C...</td>\n",
       "      <td>1 cup Rice - soaked for 20 minutes,1 Green Chi...</td>\n",
       "      <td>30</td>\n",
       "      <td>South Indian Recipes</td>\n",
       "      <td>To begin making Pudina Khara Pongal Recipe, wa...</td>\n",
       "      <td>https://www.archanaskitchen.com/pudina-khara-p...</td>\n",
       "      <td>cashew nuts,salt,yellow moong dal (split),ging...</td>\n",
       "      <td>https://www.archanaskitchen.com/images/archana...</td>\n",
       "      <td>15</td>\n",
       "    </tr>\n",
       "    <tr>\n",
       "      <th>6</th>\n",
       "      <td>Udupi Style Ash Gourd Coconut Curry Recipe</td>\n",
       "      <td>4 Dry Red Chillies,1/2 teaspoon Turmeric powde...</td>\n",
       "      <td>40</td>\n",
       "      <td>Udupi</td>\n",
       "      <td>To begin making the Udupi Style Ash Gourd Coco...</td>\n",
       "      <td>https://www.archanaskitchen.com/udupi-style-as...</td>\n",
       "      <td>salt,tamarind water,coconut,mustard seeds,jagg...</td>\n",
       "      <td>https://www.archanaskitchen.com/images/archana...</td>\n",
       "      <td>14</td>\n",
       "    </tr>\n",
       "    <tr>\n",
       "      <th>7</th>\n",
       "      <td>Mexican Style Black Bean Burrito Recipe</td>\n",
       "      <td>6 to 8 Spinach Leaves (Palak),1/4 cup Black be...</td>\n",
       "      <td>40</td>\n",
       "      <td>Mexican</td>\n",
       "      <td>To begin making the Black Bean Burrito recipe,...</td>\n",
       "      <td>https://www.archanaskitchen.com/black-bean-bur...</td>\n",
       "      <td>tomato,spring onion greens,hung curd (greek yo...</td>\n",
       "      <td>https://www.archanaskitchen.com/images/archana...</td>\n",
       "      <td>12</td>\n",
       "    </tr>\n",
       "    <tr>\n",
       "      <th>8</th>\n",
       "      <td>Spicy Crunchy Masala Idli Recipe</td>\n",
       "      <td>Mint Leaves (Pudina) - to taste,1/2 teaspoon T...</td>\n",
       "      <td>30</td>\n",
       "      <td>South Indian Recipes</td>\n",
       "      <td>To prepare Spicy Crunchy Masala Idli Recipe, H...</td>\n",
       "      <td>https://www.archanaskitchen.com/spicy-crunchy-...</td>\n",
       "      <td>tomato,salt,coriander (dhania) leaves,idli,red...</td>\n",
       "      <td>https://www.archanaskitchen.com/images/archana...</td>\n",
       "      <td>12</td>\n",
       "    </tr>\n",
       "    <tr>\n",
       "      <th>9</th>\n",
       "      <td>Cauliflower Leaves Chutney (Recipe in Hindi)</td>\n",
       "      <td>3 cloves garlic, 1 big Spoon oil, 2 tablespoo...</td>\n",
       "      <td>25</td>\n",
       "      <td>South Indian Recipes</td>\n",
       "      <td>To make cauliflower leaf chutney, first of all...</td>\n",
       "      <td>https://www.archanaskitchen.com/cauliflower-le...</td>\n",
       "      <td>tomato,salt,turmeric powder,red chillies,spoon...</td>\n",
       "      <td>https://www.archanaskitchen.com/images/archana...</td>\n",
       "      <td>13</td>\n",
       "    </tr>\n",
       "  </tbody>\n",
       "</table>\n",
       "</div>"
      ],
      "text/plain": [
       "                                TranslatedRecipeName  \\\n",
       "0                               Masala Karela Recipe   \n",
       "1                         Spicy Tomato Rice (Recipe)   \n",
       "2  Ragi Semiya Upma Recipe - Ragi Millet Vermicel...   \n",
       "3  Gongura Chicken Curry Recipe - Andhra Style Go...   \n",
       "4  Andhra Style Alam Pachadi Recipe - Adrak Chutn...   \n",
       "5  Pudina Khara Pongal Recipe (Rice and Lentils C...   \n",
       "6         Udupi Style Ash Gourd Coconut Curry Recipe   \n",
       "7            Mexican Style Black Bean Burrito Recipe   \n",
       "8                   Spicy Crunchy Masala Idli Recipe   \n",
       "9       Cauliflower Leaves Chutney (Recipe in Hindi)   \n",
       "\n",
       "                               TranslatedIngredients  TotalTimeInMins  \\\n",
       "0  1 tablespoon Red Chilli powder,3 tablespoon Gr...               45   \n",
       "1   2 teaspoon cashew - or peanuts, 1/2 Teaspoon ...               15   \n",
       "2  1 Onion - sliced,1 teaspoon White Urad Dal (Sp...               50   \n",
       "3  1/2 teaspoon Turmeric powder (Haldi),1 tablesp...               45   \n",
       "4   oil - as per use, 1 tablespoon coriander seed...               30   \n",
       "5  1 cup Rice - soaked for 20 minutes,1 Green Chi...               30   \n",
       "6  4 Dry Red Chillies,1/2 teaspoon Turmeric powde...               40   \n",
       "7  6 to 8 Spinach Leaves (Palak),1/4 cup Black be...               40   \n",
       "8  Mint Leaves (Pudina) - to taste,1/2 teaspoon T...               30   \n",
       "9   3 cloves garlic, 1 big Spoon oil, 2 tablespoo...               25   \n",
       "\n",
       "                Cuisine                             TranslatedInstructions  \\\n",
       "0                Indian  To begin making the Masala Karela Recipe,de-se...   \n",
       "1  South Indian Recipes  To make tomato puliogere, first cut the tomato...   \n",
       "2  South Indian Recipes  To begin making the Ragi Vermicelli Recipe, fi...   \n",
       "3                Andhra  To begin making Gongura Chicken Curry Recipe f...   \n",
       "4                Andhra  To make Andhra Style Alam Pachadi, first heat ...   \n",
       "5  South Indian Recipes  To begin making Pudina Khara Pongal Recipe, wa...   \n",
       "6                 Udupi  To begin making the Udupi Style Ash Gourd Coco...   \n",
       "7               Mexican  To begin making the Black Bean Burrito recipe,...   \n",
       "8  South Indian Recipes  To prepare Spicy Crunchy Masala Idli Recipe, H...   \n",
       "9  South Indian Recipes  To make cauliflower leaf chutney, first of all...   \n",
       "\n",
       "                                                 URL  \\\n",
       "0  https://www.archanaskitchen.com/masala-karela-...   \n",
       "1  https://www.archanaskitchen.com/spicy-tomato-r...   \n",
       "2  https://www.archanaskitchen.com/ragi-vermicell...   \n",
       "3  https://www.archanaskitchen.com/gongura-chicke...   \n",
       "4  https://www.archanaskitchen.com/andhra-style-a...   \n",
       "5  https://www.archanaskitchen.com/pudina-khara-p...   \n",
       "6  https://www.archanaskitchen.com/udupi-style-as...   \n",
       "7  https://www.archanaskitchen.com/black-bean-bur...   \n",
       "8  https://www.archanaskitchen.com/spicy-crunchy-...   \n",
       "9  https://www.archanaskitchen.com/cauliflower-le...   \n",
       "\n",
       "                                 Cleaned-Ingredients  \\\n",
       "0  salt,amchur (dry mango powder),karela (bitter ...   \n",
       "1  tomato,salt,chickpea lentils,green chilli,rice...   \n",
       "2  salt,rice vermicelli noodles (thin),asafoetida...   \n",
       "3  tomato,salt,ginger,sorrel leaves (gongura),fen...   \n",
       "4  tomato,salt,ginger,red chillies,curry,asafoeti...   \n",
       "5  cashew nuts,salt,yellow moong dal (split),ging...   \n",
       "6  salt,tamarind water,coconut,mustard seeds,jagg...   \n",
       "7  tomato,spring onion greens,hung curd (greek yo...   \n",
       "8  tomato,salt,coriander (dhania) leaves,idli,red...   \n",
       "9  tomato,salt,turmeric powder,red chillies,spoon...   \n",
       "\n",
       "                                           image-url  Ingredient-count  \n",
       "0  https://www.archanaskitchen.com/images/archana...                10  \n",
       "1  https://www.archanaskitchen.com/images/archana...                12  \n",
       "2  https://www.archanaskitchen.com/images/archana...                12  \n",
       "3  https://www.archanaskitchen.com/images/archana...                15  \n",
       "4  https://www.archanaskitchen.com/images/archana...                12  \n",
       "5  https://www.archanaskitchen.com/images/archana...                15  \n",
       "6  https://www.archanaskitchen.com/images/archana...                14  \n",
       "7  https://www.archanaskitchen.com/images/archana...                12  \n",
       "8  https://www.archanaskitchen.com/images/archana...                12  \n",
       "9  https://www.archanaskitchen.com/images/archana...                13  "
      ]
     },
     "execution_count": 17,
     "metadata": {},
     "output_type": "execute_result"
    }
   ],
   "source": [
    "df.head(n=10)"
   ]
  },
  {
   "cell_type": "code",
   "execution_count": 18,
   "id": "3ce4d61a",
   "metadata": {},
   "outputs": [
    {
     "data": {
      "text/plain": [
       "'To begin making the Masala Karela Recipe,de-seed the karela and slice.\\nDo not remove the skin as the skin has all the nutrients.\\nAdd the karela to the pressure cooker with 3 tablespoon of water, salt and turmeric powder and pressure cook for three whistles.\\nRelease the pressure immediately and open the lids.\\nKeep aside.Heat oil in a heavy bottomed pan or a kadhai.\\nAdd cumin seeds and let it sizzle.Once the cumin seeds have sizzled, add onions and saute them till it turns golden brown in color.Add the karela, red chilli powder, amchur powder, coriander powder and besan.\\nStir to combine the masalas into the karela.Drizzle a little extra oil on the top and mix again.\\nCover the pan and simmer Masala Karela stirring occasionally until everything comes together well.\\nTurn off the heat.Transfer Masala Karela into a serving bowl and serve.Serve Masala Karela along with Panchmel Dal and Phulka for a weekday meal with your family.\\n'"
      ]
     },
     "execution_count": 18,
     "metadata": {},
     "output_type": "execute_result"
    }
   ],
   "source": [
    "#There are a lot of dots, symbols.\n",
    "#From my expreince and suggestion from fasttext(facebook) we need to preprocess(clean,trim etc.) otherwise model will unefficient.\n",
    "df.TranslatedInstructions[0]"
   ]
  },
  {
   "cell_type": "code",
   "execution_count": 19,
   "id": "f4508987",
   "metadata": {},
   "outputs": [
    {
     "data": {
      "text/plain": [
       "'To begin making the Masala Karela Recipe de seed the karela and slice \\nDo not remove the skin as the skin has all the nutrients \\nAdd the karela to the pressure cooker with 3 tablespoon of water  salt and turmeric powder and pressure cook for three whistles \\nRelease the pressure immediately and open the lids \\nKeep aside Heat oil in a heavy bottomed pan or a kadhai \\nAdd cumin seeds and let it sizzle Once the cumin seeds have sizzled  add onions and saute them till it turns golden brown in color Add the karela  red chilli powder  amchur powder  coriander powder and besan \\nStir to combine the masalas into the karela Drizzle a little extra oil on the top and mix again \\nCover the pan and simmer Masala Karela stirring occasionally until everything comes together well \\nTurn off the heat Transfer Masala Karela into a serving bowl and serve Serve Masala Karela along with Panchmel Dal and Phulka for a weekday meal with your family \\n'"
      ]
     },
     "execution_count": 19,
     "metadata": {},
     "output_type": "execute_result"
    }
   ],
   "source": [
    "#regEX  regular expressions.\n",
    "#https://regex101.com/  you can control your regex from this website.\n",
    "import re\n",
    "\n",
    "text = 'To begin making the Masala Karela Recipe,de-seed the karela and slice.\\nDo not remove the skin as the skin has all the nutrients.\\nAdd the karela to the pressure cooker with 3 tablespoon of water, salt and turmeric powder and pressure cook for three whistles.\\nRelease the pressure immediately and open the lids.\\nKeep aside.Heat oil in a heavy bottomed pan or a kadhai.\\nAdd cumin seeds and let it sizzle.Once the cumin seeds have sizzled, add onions and saute them till it turns golden brown in color.Add the karela, red chilli powder, amchur powder, coriander powder and besan.\\nStir to combine the masalas into the karela.Drizzle a little extra oil on the top and mix again.\\nCover the pan and simmer Masala Karela stirring occasionally until everything comes together well.\\nTurn off the heat.Transfer Masala Karela into a serving bowl and serve.Serve Masala Karela along with Panchmel Dal and Phulka for a weekday meal with your family.\\n'\n",
    "\n",
    "re.sub(r\"[^\\w\\s]\", \" \", text, flags=re.MULTILINE)"
   ]
  },
  {
   "cell_type": "code",
   "execution_count": 20,
   "id": "e61b43ff",
   "metadata": {},
   "outputs": [],
   "source": [
    "#function will remove /n, strip and lower all-cases.\n",
    "def preprocess(text):\n",
    "    text = re.sub(r'[^\\w\\s\\']',' ', text)\n",
    "    text = re.sub(r'[ \\n]+', ' ', text)\n",
    "    return text.strip().lower() "
   ]
  },
  {
   "cell_type": "code",
   "execution_count": 21,
   "id": "577e033e",
   "metadata": {},
   "outputs": [
    {
     "data": {
      "text/plain": [
       "'to begin making the masala karela recipe de seed the karela and slice do not remove the skin as the skin has all the nutrients add the karela to the pressure cooker with 3 tablespoon of water salt and turmeric powder and pressure cook for three whistles release the pressure immediately and open the lids keep aside heat oil in a heavy bottomed pan or a kadhai add cumin seeds and let it sizzle once the cumin seeds have sizzled add onions and saute them till it turns golden brown in color add the karela red chilli powder amchur powder coriander powder and besan stir to combine the masalas into the karela drizzle a little extra oil on the top and mix again cover the pan and simmer masala karela stirring occasionally until everything comes together well turn off the heat transfer masala karela into a serving bowl and serve serve masala karela along with panchmel dal and phulka for a weekday meal with your family'"
      ]
     },
     "execution_count": 21,
     "metadata": {},
     "output_type": "execute_result"
    }
   ],
   "source": [
    "text = 'To begin making the Masala Karela Recipe,de-seed the karela and slice.\\nDo not remove the skin as the skin has all the nutrients.\\nAdd the karela to the pressure cooker with 3 tablespoon of water, salt and turmeric powder and pressure cook for three whistles.\\nRelease the pressure immediately and open the lids.\\nKeep aside.Heat oil in a heavy bottomed pan or a kadhai.\\nAdd cumin seeds and let it sizzle.Once the cumin seeds have sizzled, add onions and saute them till it turns golden brown in color.Add the karela, red chilli powder, amchur powder, coriander powder and besan.\\nStir to combine the masalas into the karela.Drizzle a little extra oil on the top and mix again.\\nCover the pan and simmer Masala Karela stirring occasionally until everything comes together well.\\nTurn off the heat.Transfer Masala Karela into a serving bowl and serve.Serve Masala Karela along with Panchmel Dal and Phulka for a weekday meal with your family.\\n'\n",
    "\n",
    "preprocess(text)"
   ]
  },
  {
   "cell_type": "code",
   "execution_count": 22,
   "id": "bd9738a0",
   "metadata": {},
   "outputs": [
    {
     "data": {
      "text/plain": [
       "'to begin making the masala karela recipe de seed the karela and slice do not remove the skin as the skin has all the nutrients add the karela to the pressure cooker with 3 tablespoon of water salt and turmeric powder and pressure cook for three whistles release the pressure immediately and open the lids keep aside heat oil in a heavy bottomed pan or a kadhai add cumin seeds and let it sizzle once the cumin seeds have sizzled add onions and saute them till it turns golden brown in color add the karela red chilli powder amchur powder coriander powder and besan stir to combine the masalas into the karela drizzle a little extra oil on the top and mix again cover the pan and simmer masala karela stirring occasionally until everything comes together well turn off the heat transfer masala karela into a serving bowl and serve serve masala karela along with panchmel dal and phulka for a weekday meal with your family'"
      ]
     },
     "execution_count": 22,
     "metadata": {},
     "output_type": "execute_result"
    }
   ],
   "source": [
    "#for using function for all rows with map-ping func.\n",
    "df.TranslatedInstructions = df.TranslatedInstructions.map(preprocess)\n",
    "df.TranslatedInstructions[0]"
   ]
  },
  {
   "cell_type": "code",
   "execution_count": 23,
   "id": "c3f5236e",
   "metadata": {},
   "outputs": [],
   "source": [
    "#after use function, lets save it without header and indexes.\n",
    "df.to_csv(\"food_receipes.txt\", columns=[\"TranslatedInstructions\"], header=None, index=False)"
   ]
  },
  {
   "cell_type": "code",
   "execution_count": 24,
   "id": "ebb3d572",
   "metadata": {},
   "outputs": [],
   "source": [
    "#traning unsupervised training on txt file.\n",
    "model = fasttext.train_unsupervised(\"food_receipes.txt\")"
   ]
  },
  {
   "cell_type": "code",
   "execution_count": 25,
   "id": "97af3d57",
   "metadata": {},
   "outputs": [
    {
     "data": {
      "text/plain": [
       "[(0.9461627006530762, 'semiya'),\n",
       " (0.7715898156166077, 'payasam'),\n",
       " (0.7577553987503052, 'odiya'),\n",
       " (0.7539320588111877, 'seviyan'),\n",
       " (0.7301995158195496, 'payasa'),\n",
       " (0.7246291041374207, 'kavuni'),\n",
       " (0.7241501808166504, 'choliya'),\n",
       " (0.7181496620178223, 'payar'),\n",
       " (0.7128185033798218, 'paya'),\n",
       " (0.70945805311203, 'oriya')]"
      ]
     },
     "execution_count": 25,
     "metadata": {},
     "output_type": "execute_result"
    }
   ],
   "source": [
    "model.get_nearest_neighbors(\"Semiya \")"
   ]
  },
  {
   "cell_type": "code",
   "execution_count": 26,
   "id": "982bad59",
   "metadata": {},
   "outputs": [
    {
     "data": {
      "text/plain": [
       "[(0.9650330543518066, 'burrito'),\n",
       " (0.9037392139434814, 'burritos'),\n",
       " (0.768701434135437, 'nachos'),\n",
       " (0.7299568057060242, 'enchiladas'),\n",
       " (0.7271375060081482, 'verde'),\n",
       " (0.724010705947876, 'fajita'),\n",
       " (0.7221106290817261, 'loaded'),\n",
       " (0.7202183604240417, 'mexican'),\n",
       " (0.7102294564247131, 'mediterranean'),\n",
       " (0.7044512033462524, 'components')]"
      ]
     },
     "execution_count": 26,
     "metadata": {},
     "output_type": "execute_result"
    }
   ],
   "source": [
    "model.get_nearest_neighbors(\"Burrito\")"
   ]
  },
  {
   "cell_type": "code",
   "execution_count": 27,
   "id": "7233fbcb",
   "metadata": {},
   "outputs": [
    {
     "data": {
      "text/plain": [
       "[(0.9400821924209595, 'chutneys'),\n",
       " (0.733075737953186, 'imli'),\n",
       " (0.7080047726631165, 'pudina'),\n",
       " (0.7040751576423645, 'dhaniya'),\n",
       " (0.7013283967971802, 'khajur'),\n",
       " (0.6760939359664917, 'pudi'),\n",
       " (0.6597221493721008, 'south'),\n",
       " (0.653978705406189, 'mavinakayi'),\n",
       " (0.6482489109039307, 'heerekai'),\n",
       " (0.6470220685005188, 'chammanthi')]"
      ]
     },
     "execution_count": 27,
     "metadata": {},
     "output_type": "execute_result"
    }
   ],
   "source": [
    "model.get_nearest_neighbors(\"chutney\")"
   ]
  },
  {
   "cell_type": "code",
   "execution_count": 28,
   "id": "227e696e",
   "metadata": {},
   "outputs": [
    {
     "data": {
      "text/plain": [
       "[(0.7315325140953064, 'khoya'),\n",
       " (0.7187178134918213, 'sheera'),\n",
       " (0.7043061852455139, 'badam'),\n",
       " (0.6900990605354309, 'burfi'),\n",
       " (0.6816575527191162, 'rabri'),\n",
       " (0.6768893599510193, 'kesari'),\n",
       " (0.6736652851104736, 'mohan'),\n",
       " (0.6636528968811035, 'mawa'),\n",
       " (0.6528480052947998, 'halbai'),\n",
       " (0.6290618181228638, 'kheer')]"
      ]
     },
     "execution_count": 28,
     "metadata": {},
     "output_type": "execute_result"
    }
   ],
   "source": [
    "model.get_nearest_neighbors(\"halwa\")"
   ]
  },
  {
   "cell_type": "code",
   "execution_count": 29,
   "id": "d5238c0e",
   "metadata": {},
   "outputs": [
    {
     "data": {
      "text/plain": [
       "[(0.8332179188728333, 'nachos'),\n",
       " (0.8250068426132202, 'enchiladas'),\n",
       " (0.8105471134185791, 'jamaican'),\n",
       " (0.7978674173355103, 'salsa'),\n",
       " (0.795410692691803, 'fajitas'),\n",
       " (0.790665864944458, 'enchilada'),\n",
       " (0.7690893411636353, 'fajita'),\n",
       " (0.7613201141357422, 'guacamole'),\n",
       " (0.7600868344306946, 'tostadas'),\n",
       " (0.729971706867218, 'burrito')]"
      ]
     },
     "execution_count": 29,
     "metadata": {},
     "output_type": "execute_result"
    }
   ],
   "source": [
    "model.get_nearest_neighbors(\"mexican\")"
   ]
  },
  {
   "cell_type": "code",
   "execution_count": 30,
   "id": "65cd5113",
   "metadata": {},
   "outputs": [
    {
     "data": {
      "text/plain": [
       "[(0.9508711099624634, 'kebab'),\n",
       " (0.9379817843437195, 'kebabs'),\n",
       " (0.775743305683136, 'galouti'),\n",
       " (0.7567328214645386, 'kabab'),\n",
       " (0.7413170337677002, 'seekh'),\n",
       " (0.7277856469154358, 'shikampuri'),\n",
       " (0.6864948868751526, 'haleem'),\n",
       " (0.6783769726753235, 'ke'),\n",
       " (0.6702520847320557, 'kathal'),\n",
       " (0.6542497277259827, 'kalmi')]"
      ]
     },
     "execution_count": 30,
     "metadata": {},
     "output_type": "execute_result"
    }
   ],
   "source": [
    "model.get_nearest_neighbors(\"kebap\")"
   ]
  }
 ],
 "metadata": {
  "kernelspec": {
   "display_name": "Python 3.8.13 ('base')",
   "language": "python",
   "name": "python3"
  },
  "language_info": {
   "codemirror_mode": {
    "name": "ipython",
    "version": 3
   },
   "file_extension": ".py",
   "mimetype": "text/x-python",
   "name": "python",
   "nbconvert_exporter": "python",
   "pygments_lexer": "ipython3",
   "version": "3.8.13"
  },
  "vscode": {
   "interpreter": {
    "hash": "58c8929cf895c21ada1c08d6d01074f0d24208f685648566d971969d22b0146c"
   }
  }
 },
 "nbformat": 4,
 "nbformat_minor": 5
}
