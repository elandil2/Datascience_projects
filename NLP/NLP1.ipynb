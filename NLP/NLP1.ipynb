{
  "nbformat": 4,
  "nbformat_minor": 0,
  "metadata": {
    "colab": {
      "provenance": []
    },
    "kernelspec": {
      "name": "python3",
      "display_name": "Python 3"
    },
    "language_info": {
      "name": "python"
    }
  },
  "cells": [
    {
      "cell_type": "markdown",
      "source": [
        "# TF stands for Term Frequency and denotes the ratio of number of times a particular word appeared in a Document to total number of words in the document.\n",
        "\n",
        "   Term Frequency(TF) = [number of times word appeared / total no of words in a document]\n",
        "\n",
        "Term Frequency values ranges between 0 and 1. If a word occurs more number of times, then it's value will be close to 1.\n",
        "\n",
        "IDF stands for Inverse Document Frequency and denotes the log of ratio of total number of documents/datapoints in the whole dataset to the number of documents that contains the particular word.\n",
        "\n",
        "   Inverse Document Frequency(IDF) = [log(Total number of documents / number of documents that contains the word)]\n",
        "\n",
        "In IDF, if a word occured in more number of documents and is common across all documents, then it's value will be less and ratio will approaches to 0.\n",
        "\n",
        "Finally:\n",
        "\n",
        "   TF-IDF = Term Frequency(TF) * Inverse Document Frequency(IDF)\n",
        "  \n",
        "\n"
      ],
      "metadata": {
        "id": "gXvm4dhlQZ40"
      }
    },
    {
      "cell_type": "code",
      "source": [
        "from sklearn.feature_extraction.text import TfidfVectorizer\n",
        "\n",
        "corpus = [\n",
        "    \"Thor eating pizza, Loki is eating pizza, Ironman ate pizza already\",\n",
        "    \"Apple is announcing new iphone tomorrow\",\n",
        "    \"Togg is announcing new model tomorrow\",\n",
        "    \"Google is announcing new pixel-6 phone tomorrow\",\n",
        "    \"Microsoft is announcing linkedin tomorrow\",\n",
        "    \"Amazon is announcing new eco-dot service tomorrow\",\n",
        "    \"I am eating kebab and you are eating hamburger\"\n",
        "]"
      ],
      "metadata": {
        "id": "x8YiFuHgQcqb"
      },
      "execution_count": 1,
      "outputs": []
    },
    {
      "cell_type": "code",
      "source": [
        "#let's create the vectorizer and fit the corpus and transform them accordingly\n",
        "v = TfidfVectorizer()\n",
        "v.fit(corpus)\n",
        "transform_output = v.transform(corpus)"
      ],
      "metadata": {
        "id": "THvxogB_Q1rY"
      },
      "execution_count": 2,
      "outputs": []
    },
    {
      "cell_type": "code",
      "source": [
        "#let's print the vocabulary\n",
        "\n",
        "print(v.vocabulary_)"
      ],
      "metadata": {
        "colab": {
          "base_uri": "https://localhost:8080/"
        },
        "id": "z_QWl0PfQ1uu",
        "outputId": "8f88a2cf-fc19-49c4-b400-863302fd3953"
      },
      "execution_count": 3,
      "outputs": [
        {
          "output_type": "stream",
          "name": "stdout",
          "text": [
            "{'thor': 26, 'eating': 9, 'pizza': 24, 'loki': 18, 'is': 15, 'ironman': 14, 'ate': 7, 'already': 0, 'apple': 5, 'announcing': 4, 'new': 21, 'iphone': 13, 'tomorrow': 28, 'togg': 27, 'model': 20, 'google': 11, 'pixel': 23, 'phone': 22, 'microsoft': 19, 'linkedin': 17, 'amazon': 2, 'eco': 10, 'dot': 8, 'service': 25, 'am': 1, 'kebab': 16, 'and': 3, 'you': 29, 'are': 6, 'hamburger': 12}\n"
          ]
        }
      ]
    },
    {
      "cell_type": "code",
      "source": [
        "#let's print the idf of each word:\n",
        "\n",
        "all_feature_names = v.get_feature_names_out()\n",
        "\n",
        "for word in all_feature_names:\n",
        "    \n",
        "    #let's get the index in the vocabulary\n",
        "    indx = v.vocabulary_.get(word)\n",
        "    \n",
        "    #get the score\n",
        "    idf_score = v.idf_[indx]\n",
        "    \n",
        "    print(f\"{word} : {idf_score}\")"
      ],
      "metadata": {
        "colab": {
          "base_uri": "https://localhost:8080/"
        },
        "id": "m_wi_uzAQ1xX",
        "outputId": "43ff603e-6233-40ab-d32b-52b661dd3d31"
      },
      "execution_count": 4,
      "outputs": [
        {
          "output_type": "stream",
          "name": "stdout",
          "text": [
            "already : 2.386294361119891\n",
            "am : 2.386294361119891\n",
            "amazon : 2.386294361119891\n",
            "and : 2.386294361119891\n",
            "announcing : 1.2876820724517808\n",
            "apple : 2.386294361119891\n",
            "are : 2.386294361119891\n",
            "ate : 2.386294361119891\n",
            "dot : 2.386294361119891\n",
            "eating : 1.9808292530117262\n",
            "eco : 2.386294361119891\n",
            "google : 2.386294361119891\n",
            "hamburger : 2.386294361119891\n",
            "iphone : 2.386294361119891\n",
            "ironman : 2.386294361119891\n",
            "is : 1.1335313926245225\n",
            "kebab : 2.386294361119891\n",
            "linkedin : 2.386294361119891\n",
            "loki : 2.386294361119891\n",
            "microsoft : 2.386294361119891\n",
            "model : 2.386294361119891\n",
            "new : 1.4700036292457357\n",
            "phone : 2.386294361119891\n",
            "pixel : 2.386294361119891\n",
            "pizza : 2.386294361119891\n",
            "service : 2.386294361119891\n",
            "thor : 2.386294361119891\n",
            "togg : 2.386294361119891\n",
            "tomorrow : 1.2876820724517808\n",
            "you : 2.386294361119891\n"
          ]
        }
      ]
    },
    {
      "cell_type": "markdown",
      "source": [
        "AS you can see above;\n",
        "\n",
        "is , tomorrow etc. are less important (less weight) while other rare/uniqe words are more important"
      ],
      "metadata": {
        "id": "3vg-HVryRA33"
      }
    },
    {
      "cell_type": "code",
      "source": [
        "#let's print the transformed output from tf-idf\n",
        "print(transform_output.toarray())"
      ],
      "metadata": {
        "colab": {
          "base_uri": "https://localhost:8080/"
        },
        "id": "vOPnl2sgQ1z9",
        "outputId": "2e7f0ae3-f1f7-4d09-af9a-5013d67e5f00"
      },
      "execution_count": 5,
      "outputs": [
        {
          "output_type": "stream",
          "name": "stdout",
          "text": [
            "[[0.24266547 0.         0.         0.         0.         0.\n",
            "  0.         0.24266547 0.         0.40286636 0.         0.\n",
            "  0.         0.         0.24266547 0.11527033 0.         0.\n",
            "  0.24266547 0.         0.         0.         0.         0.\n",
            "  0.72799642 0.         0.24266547 0.         0.         0.        ]\n",
            " [0.         0.         0.         0.         0.30224568 0.56011275\n",
            "  0.         0.         0.         0.         0.         0.\n",
            "  0.         0.56011275 0.         0.26606332 0.         0.\n",
            "  0.         0.         0.         0.34504032 0.         0.\n",
            "  0.         0.         0.         0.         0.30224568 0.        ]\n",
            " [0.         0.         0.         0.         0.30224568 0.\n",
            "  0.         0.         0.         0.         0.         0.\n",
            "  0.         0.         0.         0.26606332 0.         0.\n",
            "  0.         0.         0.56011275 0.34504032 0.         0.\n",
            "  0.         0.         0.         0.56011275 0.30224568 0.        ]\n",
            " [0.         0.         0.         0.         0.26369849 0.\n",
            "  0.         0.         0.         0.         0.         0.48867825\n",
            "  0.         0.         0.         0.23213068 0.         0.\n",
            "  0.         0.         0.         0.30103529 0.48867825 0.48867825\n",
            "  0.         0.         0.         0.         0.26369849 0.        ]\n",
            " [0.         0.         0.         0.         0.32202172 0.\n",
            "  0.         0.         0.         0.         0.         0.\n",
            "  0.         0.         0.         0.28347193 0.         0.59676113\n",
            "  0.         0.59676113 0.         0.         0.         0.\n",
            "  0.         0.         0.         0.         0.32202172 0.        ]\n",
            " [0.         0.         0.43905739 0.         0.23692229 0.\n",
            "  0.         0.         0.43905739 0.         0.43905739 0.\n",
            "  0.         0.         0.         0.20855991 0.         0.\n",
            "  0.         0.         0.         0.27046787 0.         0.\n",
            "  0.         0.43905739 0.         0.         0.23692229 0.        ]\n",
            " [0.         0.33794257 0.         0.33794257 0.         0.\n",
            "  0.33794257 0.         0.         0.56104271 0.         0.\n",
            "  0.33794257 0.         0.         0.         0.33794257 0.\n",
            "  0.         0.         0.         0.         0.         0.\n",
            "  0.         0.         0.         0.         0.         0.33794257]]\n"
          ]
        }
      ]
    },
    {
      "cell_type": "code",
      "source": [
        "import pandas as pd\n",
        "\n",
        "#read the data into a pandas dataframe\n",
        "df = pd.read_excel(\"/content/drive/MyDrive/NLPraw.xlsx\")\n",
        "print(df.shape)\n",
        "df.head(5)"
      ],
      "metadata": {
        "colab": {
          "base_uri": "https://localhost:8080/",
          "height": 225
        },
        "id": "a3WXhYRMRSTL",
        "outputId": "b1b9d65e-3c98-42c6-8f85-d52a256424e3"
      },
      "execution_count": 7,
      "outputs": [
        {
          "output_type": "stream",
          "name": "stdout",
          "text": [
            "(26455, 2)\n"
          ]
        },
        {
          "output_type": "execute_result",
          "data": {
            "text/plain": [
              "  Unnamed: 0                                         Unnamed: 1\n",
              "0  Household  Paper Plane Design Framed Wall Hanging Motivat...\n",
              "1  Household  Indianara Motivational Square Synthetic Wood A...\n",
              "2  Household  SAF 'Buddha Religious' Painting (Synthetic, 13...\n",
              "3  Household  SAF 'Ganesha' Framed Painting (Wood, 12 inch x...\n",
              "4  Household  SAF 'Flower Floral' Painting (Synthetic, 13.5 ..."
            ],
            "text/html": [
              "\n",
              "  <div id=\"df-d4ab28bd-2589-4641-8ddf-bbe02f78b528\">\n",
              "    <div class=\"colab-df-container\">\n",
              "      <div>\n",
              "<style scoped>\n",
              "    .dataframe tbody tr th:only-of-type {\n",
              "        vertical-align: middle;\n",
              "    }\n",
              "\n",
              "    .dataframe tbody tr th {\n",
              "        vertical-align: top;\n",
              "    }\n",
              "\n",
              "    .dataframe thead th {\n",
              "        text-align: right;\n",
              "    }\n",
              "</style>\n",
              "<table border=\"1\" class=\"dataframe\">\n",
              "  <thead>\n",
              "    <tr style=\"text-align: right;\">\n",
              "      <th></th>\n",
              "      <th>Unnamed: 0</th>\n",
              "      <th>Unnamed: 1</th>\n",
              "    </tr>\n",
              "  </thead>\n",
              "  <tbody>\n",
              "    <tr>\n",
              "      <th>0</th>\n",
              "      <td>Household</td>\n",
              "      <td>Paper Plane Design Framed Wall Hanging Motivat...</td>\n",
              "    </tr>\n",
              "    <tr>\n",
              "      <th>1</th>\n",
              "      <td>Household</td>\n",
              "      <td>Indianara Motivational Square Synthetic Wood A...</td>\n",
              "    </tr>\n",
              "    <tr>\n",
              "      <th>2</th>\n",
              "      <td>Household</td>\n",
              "      <td>SAF 'Buddha Religious' Painting (Synthetic, 13...</td>\n",
              "    </tr>\n",
              "    <tr>\n",
              "      <th>3</th>\n",
              "      <td>Household</td>\n",
              "      <td>SAF 'Ganesha' Framed Painting (Wood, 12 inch x...</td>\n",
              "    </tr>\n",
              "    <tr>\n",
              "      <th>4</th>\n",
              "      <td>Household</td>\n",
              "      <td>SAF 'Flower Floral' Painting (Synthetic, 13.5 ...</td>\n",
              "    </tr>\n",
              "  </tbody>\n",
              "</table>\n",
              "</div>\n",
              "      <button class=\"colab-df-convert\" onclick=\"convertToInteractive('df-d4ab28bd-2589-4641-8ddf-bbe02f78b528')\"\n",
              "              title=\"Convert this dataframe to an interactive table.\"\n",
              "              style=\"display:none;\">\n",
              "        \n",
              "  <svg xmlns=\"http://www.w3.org/2000/svg\" height=\"24px\"viewBox=\"0 0 24 24\"\n",
              "       width=\"24px\">\n",
              "    <path d=\"M0 0h24v24H0V0z\" fill=\"none\"/>\n",
              "    <path d=\"M18.56 5.44l.94 2.06.94-2.06 2.06-.94-2.06-.94-.94-2.06-.94 2.06-2.06.94zm-11 1L8.5 8.5l.94-2.06 2.06-.94-2.06-.94L8.5 2.5l-.94 2.06-2.06.94zm10 10l.94 2.06.94-2.06 2.06-.94-2.06-.94-.94-2.06-.94 2.06-2.06.94z\"/><path d=\"M17.41 7.96l-1.37-1.37c-.4-.4-.92-.59-1.43-.59-.52 0-1.04.2-1.43.59L10.3 9.45l-7.72 7.72c-.78.78-.78 2.05 0 2.83L4 21.41c.39.39.9.59 1.41.59.51 0 1.02-.2 1.41-.59l7.78-7.78 2.81-2.81c.8-.78.8-2.07 0-2.86zM5.41 20L4 18.59l7.72-7.72 1.47 1.35L5.41 20z\"/>\n",
              "  </svg>\n",
              "      </button>\n",
              "      \n",
              "  <style>\n",
              "    .colab-df-container {\n",
              "      display:flex;\n",
              "      flex-wrap:wrap;\n",
              "      gap: 12px;\n",
              "    }\n",
              "\n",
              "    .colab-df-convert {\n",
              "      background-color: #E8F0FE;\n",
              "      border: none;\n",
              "      border-radius: 50%;\n",
              "      cursor: pointer;\n",
              "      display: none;\n",
              "      fill: #1967D2;\n",
              "      height: 32px;\n",
              "      padding: 0 0 0 0;\n",
              "      width: 32px;\n",
              "    }\n",
              "\n",
              "    .colab-df-convert:hover {\n",
              "      background-color: #E2EBFA;\n",
              "      box-shadow: 0px 1px 2px rgba(60, 64, 67, 0.3), 0px 1px 3px 1px rgba(60, 64, 67, 0.15);\n",
              "      fill: #174EA6;\n",
              "    }\n",
              "\n",
              "    [theme=dark] .colab-df-convert {\n",
              "      background-color: #3B4455;\n",
              "      fill: #D2E3FC;\n",
              "    }\n",
              "\n",
              "    [theme=dark] .colab-df-convert:hover {\n",
              "      background-color: #434B5C;\n",
              "      box-shadow: 0px 1px 3px 1px rgba(0, 0, 0, 0.15);\n",
              "      filter: drop-shadow(0px 1px 2px rgba(0, 0, 0, 0.3));\n",
              "      fill: #FFFFFF;\n",
              "    }\n",
              "  </style>\n",
              "\n",
              "      <script>\n",
              "        const buttonEl =\n",
              "          document.querySelector('#df-d4ab28bd-2589-4641-8ddf-bbe02f78b528 button.colab-df-convert');\n",
              "        buttonEl.style.display =\n",
              "          google.colab.kernel.accessAllowed ? 'block' : 'none';\n",
              "\n",
              "        async function convertToInteractive(key) {\n",
              "          const element = document.querySelector('#df-d4ab28bd-2589-4641-8ddf-bbe02f78b528');\n",
              "          const dataTable =\n",
              "            await google.colab.kernel.invokeFunction('convertToInteractive',\n",
              "                                                     [key], {});\n",
              "          if (!dataTable) return;\n",
              "\n",
              "          const docLinkHtml = 'Like what you see? Visit the ' +\n",
              "            '<a target=\"_blank\" href=https://colab.research.google.com/notebooks/data_table.ipynb>data table notebook</a>'\n",
              "            + ' to learn more about interactive tables.';\n",
              "          element.innerHTML = '';\n",
              "          dataTable['output_type'] = 'display_data';\n",
              "          await google.colab.output.renderOutput(dataTable, element);\n",
              "          const docLink = document.createElement('div');\n",
              "          docLink.innerHTML = docLinkHtml;\n",
              "          element.appendChild(docLink);\n",
              "        }\n",
              "      </script>\n",
              "    </div>\n",
              "  </div>\n",
              "  "
            ]
          },
          "metadata": {},
          "execution_count": 7
        }
      ]
    },
    {
      "cell_type": "code",
      "source": [
        "#Lets change column's names.\n",
        "df =df.rename(columns={'Unnamed: 0':'label', 'Unnamed: 1':'Text'})"
      ],
      "metadata": {
        "id": "p3qgl712RV0K"
      },
      "execution_count": 8,
      "outputs": []
    },
    {
      "cell_type": "code",
      "source": [
        "#Dataframe is unbalance while household about 25k, books got 6k row.\n",
        "min_samples = 4918\n",
        "\n",
        "df_household = df[df.label==\"Household\"].sample(min_samples, random_state=2022)\n",
        "df_cloth = df[df.label==\"Clothing & Accessories\"].sample(min_samples, random_state=2022)\n",
        "df_electronics = df[df.label==\"Electronics\"].sample(min_samples, random_state=2022)\n",
        "df_books = df[df.label==\"Books\"].sample(min_samples, random_state=2022)"
      ],
      "metadata": {
        "id": "5axVHIeyReuo"
      },
      "execution_count": 10,
      "outputs": []
    },
    {
      "cell_type": "code",
      "source": [
        "#After get minimum number of samples, we concat dataframe again. \n",
        "df = pd.concat([df_household,df_cloth,df_electronics,df_books],axis=0)"
      ],
      "metadata": {
        "id": "K3KuNW2mRgxb"
      },
      "execution_count": 11,
      "outputs": []
    },
    {
      "cell_type": "code",
      "source": [
        "#check the distribution of labels \n",
        "df['label'].value_counts()"
      ],
      "metadata": {
        "colab": {
          "base_uri": "https://localhost:8080/"
        },
        "id": "1L11qBrdR5U5",
        "outputId": "7c542b76-4932-4f0d-edeb-6f9b5a3947a1"
      },
      "execution_count": 12,
      "outputs": [
        {
          "output_type": "execute_result",
          "data": {
            "text/plain": [
              "Household                 4918\n",
              "Clothing & Accessories    4918\n",
              "Electronics               4918\n",
              "Books                     4918\n",
              "Name: label, dtype: int64"
            ]
          },
          "metadata": {},
          "execution_count": 12
        }
      ]
    },
    {
      "cell_type": "code",
      "source": [
        "#Add the new column which gives a unique number to each of these labels, labelling..\n",
        "\n",
        "df['label_num'] = df['label'].map({\n",
        "    'Household' : 0, \n",
        "    'Books': 1, \n",
        "    'Electronics': 2, \n",
        "    'Clothing & Accessories': 3\n",
        "})\n",
        "\n",
        "#checking the results \n",
        "df.head(5)"
      ],
      "metadata": {
        "colab": {
          "base_uri": "https://localhost:8080/",
          "height": 206
        },
        "id": "6qBet86qSKY7",
        "outputId": "cc7a08fa-3b14-4204-f616-5294553033d4"
      },
      "execution_count": 13,
      "outputs": [
        {
          "output_type": "execute_result",
          "data": {
            "text/plain": [
              "           label                                               Text  label_num\n",
              "11114  Household  Jaquar Health Faucet With Long Easy Flex Tube-...          0\n",
              "8769   Household          Tosaa Mix Fruit Plastic Tray, 34cm, White          0\n",
              "7901   Household  Generic Innovative Rinse Bowl And Strainer In ...          0\n",
              "8860   Household  PACKNBUY Wine Bottle Aerator Decanter Pourer a...          0\n",
              "4032   Household  MMF Industries Steelmaster Security Key Cabine...          0"
            ],
            "text/html": [
              "\n",
              "  <div id=\"df-b323fc6c-b10f-47a9-a3d9-03ec10971397\">\n",
              "    <div class=\"colab-df-container\">\n",
              "      <div>\n",
              "<style scoped>\n",
              "    .dataframe tbody tr th:only-of-type {\n",
              "        vertical-align: middle;\n",
              "    }\n",
              "\n",
              "    .dataframe tbody tr th {\n",
              "        vertical-align: top;\n",
              "    }\n",
              "\n",
              "    .dataframe thead th {\n",
              "        text-align: right;\n",
              "    }\n",
              "</style>\n",
              "<table border=\"1\" class=\"dataframe\">\n",
              "  <thead>\n",
              "    <tr style=\"text-align: right;\">\n",
              "      <th></th>\n",
              "      <th>label</th>\n",
              "      <th>Text</th>\n",
              "      <th>label_num</th>\n",
              "    </tr>\n",
              "  </thead>\n",
              "  <tbody>\n",
              "    <tr>\n",
              "      <th>11114</th>\n",
              "      <td>Household</td>\n",
              "      <td>Jaquar Health Faucet With Long Easy Flex Tube-...</td>\n",
              "      <td>0</td>\n",
              "    </tr>\n",
              "    <tr>\n",
              "      <th>8769</th>\n",
              "      <td>Household</td>\n",
              "      <td>Tosaa Mix Fruit Plastic Tray, 34cm, White</td>\n",
              "      <td>0</td>\n",
              "    </tr>\n",
              "    <tr>\n",
              "      <th>7901</th>\n",
              "      <td>Household</td>\n",
              "      <td>Generic Innovative Rinse Bowl And Strainer In ...</td>\n",
              "      <td>0</td>\n",
              "    </tr>\n",
              "    <tr>\n",
              "      <th>8860</th>\n",
              "      <td>Household</td>\n",
              "      <td>PACKNBUY Wine Bottle Aerator Decanter Pourer a...</td>\n",
              "      <td>0</td>\n",
              "    </tr>\n",
              "    <tr>\n",
              "      <th>4032</th>\n",
              "      <td>Household</td>\n",
              "      <td>MMF Industries Steelmaster Security Key Cabine...</td>\n",
              "      <td>0</td>\n",
              "    </tr>\n",
              "  </tbody>\n",
              "</table>\n",
              "</div>\n",
              "      <button class=\"colab-df-convert\" onclick=\"convertToInteractive('df-b323fc6c-b10f-47a9-a3d9-03ec10971397')\"\n",
              "              title=\"Convert this dataframe to an interactive table.\"\n",
              "              style=\"display:none;\">\n",
              "        \n",
              "  <svg xmlns=\"http://www.w3.org/2000/svg\" height=\"24px\"viewBox=\"0 0 24 24\"\n",
              "       width=\"24px\">\n",
              "    <path d=\"M0 0h24v24H0V0z\" fill=\"none\"/>\n",
              "    <path d=\"M18.56 5.44l.94 2.06.94-2.06 2.06-.94-2.06-.94-.94-2.06-.94 2.06-2.06.94zm-11 1L8.5 8.5l.94-2.06 2.06-.94-2.06-.94L8.5 2.5l-.94 2.06-2.06.94zm10 10l.94 2.06.94-2.06 2.06-.94-2.06-.94-.94-2.06-.94 2.06-2.06.94z\"/><path d=\"M17.41 7.96l-1.37-1.37c-.4-.4-.92-.59-1.43-.59-.52 0-1.04.2-1.43.59L10.3 9.45l-7.72 7.72c-.78.78-.78 2.05 0 2.83L4 21.41c.39.39.9.59 1.41.59.51 0 1.02-.2 1.41-.59l7.78-7.78 2.81-2.81c.8-.78.8-2.07 0-2.86zM5.41 20L4 18.59l7.72-7.72 1.47 1.35L5.41 20z\"/>\n",
              "  </svg>\n",
              "      </button>\n",
              "      \n",
              "  <style>\n",
              "    .colab-df-container {\n",
              "      display:flex;\n",
              "      flex-wrap:wrap;\n",
              "      gap: 12px;\n",
              "    }\n",
              "\n",
              "    .colab-df-convert {\n",
              "      background-color: #E8F0FE;\n",
              "      border: none;\n",
              "      border-radius: 50%;\n",
              "      cursor: pointer;\n",
              "      display: none;\n",
              "      fill: #1967D2;\n",
              "      height: 32px;\n",
              "      padding: 0 0 0 0;\n",
              "      width: 32px;\n",
              "    }\n",
              "\n",
              "    .colab-df-convert:hover {\n",
              "      background-color: #E2EBFA;\n",
              "      box-shadow: 0px 1px 2px rgba(60, 64, 67, 0.3), 0px 1px 3px 1px rgba(60, 64, 67, 0.15);\n",
              "      fill: #174EA6;\n",
              "    }\n",
              "\n",
              "    [theme=dark] .colab-df-convert {\n",
              "      background-color: #3B4455;\n",
              "      fill: #D2E3FC;\n",
              "    }\n",
              "\n",
              "    [theme=dark] .colab-df-convert:hover {\n",
              "      background-color: #434B5C;\n",
              "      box-shadow: 0px 1px 3px 1px rgba(0, 0, 0, 0.15);\n",
              "      filter: drop-shadow(0px 1px 2px rgba(0, 0, 0, 0.3));\n",
              "      fill: #FFFFFF;\n",
              "    }\n",
              "  </style>\n",
              "\n",
              "      <script>\n",
              "        const buttonEl =\n",
              "          document.querySelector('#df-b323fc6c-b10f-47a9-a3d9-03ec10971397 button.colab-df-convert');\n",
              "        buttonEl.style.display =\n",
              "          google.colab.kernel.accessAllowed ? 'block' : 'none';\n",
              "\n",
              "        async function convertToInteractive(key) {\n",
              "          const element = document.querySelector('#df-b323fc6c-b10f-47a9-a3d9-03ec10971397');\n",
              "          const dataTable =\n",
              "            await google.colab.kernel.invokeFunction('convertToInteractive',\n",
              "                                                     [key], {});\n",
              "          if (!dataTable) return;\n",
              "\n",
              "          const docLinkHtml = 'Like what you see? Visit the ' +\n",
              "            '<a target=\"_blank\" href=https://colab.research.google.com/notebooks/data_table.ipynb>data table notebook</a>'\n",
              "            + ' to learn more about interactive tables.';\n",
              "          element.innerHTML = '';\n",
              "          dataTable['output_type'] = 'display_data';\n",
              "          await google.colab.output.renderOutput(dataTable, element);\n",
              "          const docLink = document.createElement('div');\n",
              "          docLink.innerHTML = docLinkHtml;\n",
              "          element.appendChild(docLink);\n",
              "        }\n",
              "      </script>\n",
              "    </div>\n",
              "  </div>\n",
              "  "
            ]
          },
          "metadata": {},
          "execution_count": 13
        }
      ]
    },
    {
      "cell_type": "code",
      "source": [
        "# To check any null values we used isna method, i encountered error while fitting with pipeline and fixed like this.\n",
        "df.isna().sum()\n"
      ],
      "metadata": {
        "colab": {
          "base_uri": "https://localhost:8080/"
        },
        "id": "Ncaz7qI2SVUW",
        "outputId": "1c003d19-647e-409d-f850-7eef90e9b0dd"
      },
      "execution_count": 15,
      "outputs": [
        {
          "output_type": "execute_result",
          "data": {
            "text/plain": [
              "label        0\n",
              "Text         0\n",
              "label_num    0\n",
              "dtype: int64"
            ]
          },
          "metadata": {},
          "execution_count": 15
        }
      ]
    },
    {
      "cell_type": "code",
      "source": [
        "#dropped 1 null value.\n",
        "df=df.dropna()"
      ],
      "metadata": {
        "id": "SlhEsp7rSVRu"
      },
      "execution_count": 16,
      "outputs": []
    },
    {
      "cell_type": "code",
      "source": [
        "#lets check shape of dataframe.\n",
        "df.shape"
      ],
      "metadata": {
        "colab": {
          "base_uri": "https://localhost:8080/"
        },
        "id": "1-Tk8ERzSVNa",
        "outputId": "b4d58814-a838-4c82-d611-d9934b2f6bcb"
      },
      "execution_count": 17,
      "outputs": [
        {
          "output_type": "execute_result",
          "data": {
            "text/plain": [
              "(19671, 3)"
            ]
          },
          "metadata": {},
          "execution_count": 17
        }
      ]
    },
    {
      "cell_type": "code",
      "source": [
        "from sklearn.model_selection import train_test_split\n",
        "\n",
        "X_train, X_test, y_train, y_test = train_test_split(\n",
        "    df.Text, \n",
        "    df.label_num, \n",
        "    test_size=0.2, # 20% samples will go to test dataset\n",
        "    random_state=2022,\n",
        "    stratify=df.label_num\n",
        ")"
      ],
      "metadata": {
        "id": "w1hsZjOiSVLE"
      },
      "execution_count": 18,
      "outputs": []
    },
    {
      "cell_type": "code",
      "source": [
        "#Lets check shape of train and test groups.\n",
        "print(\"Shape of X_train: \", X_train.shape)\n",
        "print(\"Shape of X_test: \", X_test.shape)"
      ],
      "metadata": {
        "colab": {
          "base_uri": "https://localhost:8080/"
        },
        "id": "tde7468VS65k",
        "outputId": "f4b46ee3-db0d-43ef-d2e2-fb88d919ad08"
      },
      "execution_count": 19,
      "outputs": [
        {
          "output_type": "stream",
          "name": "stdout",
          "text": [
            "Shape of X_train:  (15736,)\n",
            "Shape of X_test:  (3935,)\n"
          ]
        }
      ]
    },
    {
      "cell_type": "code",
      "source": [
        "from sklearn.neighbors import KNeighborsClassifier\n",
        "from sklearn.pipeline import Pipeline\n",
        "from sklearn.metrics import classification_report\n",
        "\n",
        "#1. we created pipeline here, TFid vectorizer and KNN classifer. Lets check result, i'll keep try different methods manually instead of creating iteration method.\n",
        "clf = Pipeline([\n",
        "     ('vectorizer_tfidf',TfidfVectorizer()),    \n",
        "     ('KNN', KNeighborsClassifier())         \n",
        "])\n",
        "\n",
        "#2. fit with X_train and y_train\n",
        "clf.fit(X_train, y_train)\n",
        "\n",
        "#3. get the predictions for X_test and store it in y_pred\n",
        "y_pred = clf.predict(X_test)\n",
        "\n",
        "\n",
        "#4. print the classfication report\n",
        "print(classification_report(y_test, y_pred))"
      ],
      "metadata": {
        "colab": {
          "base_uri": "https://localhost:8080/"
        },
        "id": "yg7Y7KpjS82a",
        "outputId": "9eb1d612-7926-46ef-93d1-fded311ce73e"
      },
      "execution_count": 20,
      "outputs": [
        {
          "output_type": "stream",
          "name": "stdout",
          "text": [
            "              precision    recall  f1-score   support\n",
            "\n",
            "           0       0.91      0.92      0.91       984\n",
            "           1       0.96      0.94      0.95       983\n",
            "           2       0.93      0.92      0.92       984\n",
            "           3       0.95      0.97      0.96       984\n",
            "\n",
            "    accuracy                           0.94      3935\n",
            "   macro avg       0.94      0.94      0.94      3935\n",
            "weighted avg       0.94      0.94      0.94      3935\n",
            "\n"
          ]
        }
      ]
    },
    {
      "cell_type": "code",
      "source": [
        "X_test[:10]"
      ],
      "metadata": {
        "colab": {
          "base_uri": "https://localhost:8080/"
        },
        "id": "sv0Y7_R_TmV4",
        "outputId": "4375c017-6ee8-4166-e845-9a93e75bf2dd"
      },
      "execution_count": 24,
      "outputs": [
        {
          "output_type": "execute_result",
          "data": {
            "text/plain": [
              "94       Nilkamal Apple Junior's Study Table Set - Red ...\n",
              "5694     Story@Home Door Mat Combo Set of 2 for Home, B...\n",
              "12427    The Genius of Birds About the Author Jennifer ...\n",
              "21981    TIZUM External Hard Drive Case for 2.5-Inch Ha...\n",
              "5462     Sleep Matic Waterproof 78\"X 72\"X10\" Cotton Fit...\n",
              "4961     Neelam Ratna Lakshmi Peeli/Yellow Kawri Kodi P...\n",
              "4024     Puffin™ Multipurpose 3 Xtra Plastic Modular Dr...\n",
              "9098     Wantrn Insect Killer Device 20W ( Fly Killer M...\n",
              "11382    Bulfyss Arashi Plastic Portable Mini USB and B...\n",
              "9958     LG 260 L 3 Star Frost Free Double Door Refrige...\n",
              "Name: Text, dtype: object"
            ]
          },
          "metadata": {},
          "execution_count": 24
        }
      ]
    },
    {
      "cell_type": "code",
      "source": [
        "y_test[:10]"
      ],
      "metadata": {
        "colab": {
          "base_uri": "https://localhost:8080/"
        },
        "id": "dajRBQ9GTmdK",
        "outputId": "6f34e679-b4ec-4d4e-a0aa-1fd45cbd55a7"
      },
      "execution_count": 25,
      "outputs": [
        {
          "output_type": "execute_result",
          "data": {
            "text/plain": [
              "94       0\n",
              "5694     0\n",
              "12427    1\n",
              "21981    2\n",
              "5462     0\n",
              "4961     0\n",
              "4024     0\n",
              "9098     0\n",
              "11382    0\n",
              "9958     0\n",
              "Name: label_num, dtype: int64"
            ]
          },
          "metadata": {},
          "execution_count": 25
        }
      ]
    },
    {
      "cell_type": "code",
      "source": [
        "#Look like amazing. To be honest i also confused about no:9098 article lets check what is it\n",
        "y_pred[:10]"
      ],
      "metadata": {
        "colab": {
          "base_uri": "https://localhost:8080/"
        },
        "id": "J4TwQK6HTmj3",
        "outputId": "2de13106-afd5-4e5b-e0bb-67b8f74d89d0"
      },
      "execution_count": 27,
      "outputs": [
        {
          "output_type": "execute_result",
          "data": {
            "text/plain": [
              "array([0, 0, 1, 2, 0, 0, 0, 3, 0, 0])"
            ]
          },
          "metadata": {},
          "execution_count": 27
        }
      ]
    },
    {
      "cell_type": "code",
      "source": [
        "#Looks like electronic to me but anyway.Lets continue\n",
        "X_test[:10][9098]"
      ],
      "metadata": {
        "colab": {
          "base_uri": "https://localhost:8080/",
          "height": 36
        },
        "id": "IXLkyZ8OTty3",
        "outputId": "89893647-2a9d-40f1-9183-783f98f4a444"
      },
      "execution_count": 30,
      "outputs": [
        {
          "output_type": "execute_result",
          "data": {
            "text/plain": [
              "'Wantrn Insect Killer Device 20W ( Fly Killer Machine & Bug Killer ) Branded fly catcher machine one year warranty off side'"
            ],
            "application/vnd.google.colaboratory.intrinsic+json": {
              "type": "string"
            }
          },
          "metadata": {},
          "execution_count": 30
        }
      ]
    },
    {
      "cell_type": "markdown",
      "source": [
        "using sklearn pipeline module create a classification pipeline to classify the Ecommerce Data. Note:\n",
        "\n",
        "use TF-IDF for pre-processing the text.\n",
        "\n",
        "use MultinomialNB as the classifier.\n",
        "\n",
        "print the classification report."
      ],
      "metadata": {
        "id": "ZiE5xy0pUzZO"
      }
    },
    {
      "cell_type": "code",
      "source": [
        "from sklearn.naive_bayes import MultinomialNB\n",
        "\n",
        "\n",
        "#1. create a pipeline object\n",
        "clf = Pipeline([\n",
        "     ('vectorizer_tfidf',TfidfVectorizer()),    \n",
        "     ('Multi NB', MultinomialNB())         \n",
        "])\n",
        "\n",
        "#2. fit with X_train and y_train\n",
        "clf.fit(X_train, y_train)\n",
        "\n",
        "\n",
        "#3. get the predictions for X_test and store it in y_pred\n",
        "y_pred = clf.predict(X_test)\n",
        "\n",
        "\n",
        "#4. print the classfication report\n",
        "print(classification_report(y_test, y_pred))"
      ],
      "metadata": {
        "colab": {
          "base_uri": "https://localhost:8080/"
        },
        "id": "9ssCYLm-U0Il",
        "outputId": "9a7fbac3-b517-43c1-c22c-f0873e3c13e2"
      },
      "execution_count": 31,
      "outputs": [
        {
          "output_type": "stream",
          "name": "stdout",
          "text": [
            "              precision    recall  f1-score   support\n",
            "\n",
            "           0       0.91      0.93      0.92       984\n",
            "           1       0.98      0.92      0.95       983\n",
            "           2       0.93      0.94      0.93       984\n",
            "           3       0.96      0.97      0.96       984\n",
            "\n",
            "    accuracy                           0.94      3935\n",
            "   macro avg       0.94      0.94      0.94      3935\n",
            "weighted avg       0.94      0.94      0.94      3935\n",
            "\n"
          ]
        }
      ]
    },
    {
      "cell_type": "markdown",
      "source": [
        "using sklearn pipeline module create a classification pipeline to classify the \n",
        "\n",
        "use TF-IDF for pre-processing the text.\n",
        "\n",
        "use Random Forest as the classifier.\n",
        "\n",
        "print the classification report."
      ],
      "metadata": {
        "id": "rhaXpBXIU5af"
      }
    },
    {
      "cell_type": "code",
      "source": [
        "from sklearn.ensemble import RandomForestClassifier\n",
        "\n",
        "#1. create a pipeline object /same steps with different ML methods.\n",
        "clf = Pipeline([\n",
        "     ('vectorizer_tfidf',TfidfVectorizer()),        #using the ngram_range parameter \n",
        "     ('Random Forest', RandomForestClassifier())         \n",
        "])\n",
        "\n",
        "#2. fit with X_train and y_train\n",
        "clf.fit(X_train, y_train)\n",
        "\n",
        "\n",
        "#3. get the predictions for X_test and store it in y_pred\n",
        "y_pred = clf.predict(X_test)\n",
        "\n",
        "\n",
        "#4. print the classfication report\n",
        "print(classification_report(y_test, y_pred))"
      ],
      "metadata": {
        "colab": {
          "base_uri": "https://localhost:8080/"
        },
        "id": "uIeDv1C8U53O",
        "outputId": "0a5df824-3063-43eb-8fac-a460879431ed"
      },
      "execution_count": 32,
      "outputs": [
        {
          "output_type": "stream",
          "name": "stdout",
          "text": [
            "              precision    recall  f1-score   support\n",
            "\n",
            "           0       0.88      0.89      0.89       984\n",
            "           1       0.93      0.93      0.93       983\n",
            "           2       0.92      0.90      0.91       984\n",
            "           3       0.95      0.97      0.96       984\n",
            "\n",
            "    accuracy                           0.92      3935\n",
            "   macro avg       0.92      0.92      0.92      3935\n",
            "weighted avg       0.92      0.92      0.92      3935\n",
            "\n"
          ]
        }
      ]
    },
    {
      "cell_type": "code",
      "source": [
        "### utlity function for pre-processing the text\n",
        "import spacy\n",
        "\n",
        "# load english language model and create nlp object from it\n",
        "nlp = spacy.load(\"en_core_web_sm\") \n",
        "\n",
        "def preprocess(text):\n",
        "    # For remove stop words and lemmatize based on spacy's english library  we created loop and cleaned them.\n",
        "    doc = nlp(text)\n",
        "    filtered_tokens = []\n",
        "    for token in doc:\n",
        "        if token.is_stop or token.is_punct:\n",
        "            continue\n",
        "        filtered_tokens.append(token.lemma_)\n",
        "    \n",
        "    return \" \".join(filtered_tokens) "
      ],
      "metadata": {
        "id": "W5-l9AdwVBWj"
      },
      "execution_count": 33,
      "outputs": []
    },
    {
      "cell_type": "code",
      "source": [
        "#Using this function we just created.\n",
        "df['preprocessed_txt'] = df['Text'].apply(preprocess)"
      ],
      "metadata": {
        "id": "YCXcH41eVGJf"
      },
      "execution_count": 34,
      "outputs": []
    },
    {
      "cell_type": "code",
      "source": [
        "#lets check what happened.\n",
        "df.head()"
      ],
      "metadata": {
        "colab": {
          "base_uri": "https://localhost:8080/",
          "height": 206
        },
        "id": "0pieKKwOVHz4",
        "outputId": "664344ad-67ec-44f6-daa1-25b77fdbf7de"
      },
      "execution_count": 35,
      "outputs": [
        {
          "output_type": "execute_result",
          "data": {
            "text/plain": [
              "           label                                               Text  \\\n",
              "11114  Household  Jaquar Health Faucet With Long Easy Flex Tube-...   \n",
              "8769   Household          Tosaa Mix Fruit Plastic Tray, 34cm, White   \n",
              "7901   Household  Generic Innovative Rinse Bowl And Strainer In ...   \n",
              "8860   Household  PACKNBUY Wine Bottle Aerator Decanter Pourer a...   \n",
              "4032   Household  MMF Industries Steelmaster Security Key Cabine...   \n",
              "\n",
              "       label_num                                   preprocessed_txt  \n",
              "11114          0  Jaquar Health Faucet Long Easy Flex Tube Ald 5...  \n",
              "8769           0           Tosaa Mix Fruit Plastic Tray 34 cm White  \n",
              "7901           0  Generic Innovative Rinse Bowl Strainer Multico...  \n",
              "8860           0  PACKNBUY Wine Bottle Aerator Decanter Pourer O...  \n",
              "4032           0  MMF Industries Steelmaster Security Key Cabine...  "
            ],
            "text/html": [
              "\n",
              "  <div id=\"df-1c1ab2f7-c899-4a5a-a376-b27aa0189880\">\n",
              "    <div class=\"colab-df-container\">\n",
              "      <div>\n",
              "<style scoped>\n",
              "    .dataframe tbody tr th:only-of-type {\n",
              "        vertical-align: middle;\n",
              "    }\n",
              "\n",
              "    .dataframe tbody tr th {\n",
              "        vertical-align: top;\n",
              "    }\n",
              "\n",
              "    .dataframe thead th {\n",
              "        text-align: right;\n",
              "    }\n",
              "</style>\n",
              "<table border=\"1\" class=\"dataframe\">\n",
              "  <thead>\n",
              "    <tr style=\"text-align: right;\">\n",
              "      <th></th>\n",
              "      <th>label</th>\n",
              "      <th>Text</th>\n",
              "      <th>label_num</th>\n",
              "      <th>preprocessed_txt</th>\n",
              "    </tr>\n",
              "  </thead>\n",
              "  <tbody>\n",
              "    <tr>\n",
              "      <th>11114</th>\n",
              "      <td>Household</td>\n",
              "      <td>Jaquar Health Faucet With Long Easy Flex Tube-...</td>\n",
              "      <td>0</td>\n",
              "      <td>Jaquar Health Faucet Long Easy Flex Tube Ald 5...</td>\n",
              "    </tr>\n",
              "    <tr>\n",
              "      <th>8769</th>\n",
              "      <td>Household</td>\n",
              "      <td>Tosaa Mix Fruit Plastic Tray, 34cm, White</td>\n",
              "      <td>0</td>\n",
              "      <td>Tosaa Mix Fruit Plastic Tray 34 cm White</td>\n",
              "    </tr>\n",
              "    <tr>\n",
              "      <th>7901</th>\n",
              "      <td>Household</td>\n",
              "      <td>Generic Innovative Rinse Bowl And Strainer In ...</td>\n",
              "      <td>0</td>\n",
              "      <td>Generic Innovative Rinse Bowl Strainer Multico...</td>\n",
              "    </tr>\n",
              "    <tr>\n",
              "      <th>8860</th>\n",
              "      <td>Household</td>\n",
              "      <td>PACKNBUY Wine Bottle Aerator Decanter Pourer a...</td>\n",
              "      <td>0</td>\n",
              "      <td>PACKNBUY Wine Bottle Aerator Decanter Pourer O...</td>\n",
              "    </tr>\n",
              "    <tr>\n",
              "      <th>4032</th>\n",
              "      <td>Household</td>\n",
              "      <td>MMF Industries Steelmaster Security Key Cabine...</td>\n",
              "      <td>0</td>\n",
              "      <td>MMF Industries Steelmaster Security Key Cabine...</td>\n",
              "    </tr>\n",
              "  </tbody>\n",
              "</table>\n",
              "</div>\n",
              "      <button class=\"colab-df-convert\" onclick=\"convertToInteractive('df-1c1ab2f7-c899-4a5a-a376-b27aa0189880')\"\n",
              "              title=\"Convert this dataframe to an interactive table.\"\n",
              "              style=\"display:none;\">\n",
              "        \n",
              "  <svg xmlns=\"http://www.w3.org/2000/svg\" height=\"24px\"viewBox=\"0 0 24 24\"\n",
              "       width=\"24px\">\n",
              "    <path d=\"M0 0h24v24H0V0z\" fill=\"none\"/>\n",
              "    <path d=\"M18.56 5.44l.94 2.06.94-2.06 2.06-.94-2.06-.94-.94-2.06-.94 2.06-2.06.94zm-11 1L8.5 8.5l.94-2.06 2.06-.94-2.06-.94L8.5 2.5l-.94 2.06-2.06.94zm10 10l.94 2.06.94-2.06 2.06-.94-2.06-.94-.94-2.06-.94 2.06-2.06.94z\"/><path d=\"M17.41 7.96l-1.37-1.37c-.4-.4-.92-.59-1.43-.59-.52 0-1.04.2-1.43.59L10.3 9.45l-7.72 7.72c-.78.78-.78 2.05 0 2.83L4 21.41c.39.39.9.59 1.41.59.51 0 1.02-.2 1.41-.59l7.78-7.78 2.81-2.81c.8-.78.8-2.07 0-2.86zM5.41 20L4 18.59l7.72-7.72 1.47 1.35L5.41 20z\"/>\n",
              "  </svg>\n",
              "      </button>\n",
              "      \n",
              "  <style>\n",
              "    .colab-df-container {\n",
              "      display:flex;\n",
              "      flex-wrap:wrap;\n",
              "      gap: 12px;\n",
              "    }\n",
              "\n",
              "    .colab-df-convert {\n",
              "      background-color: #E8F0FE;\n",
              "      border: none;\n",
              "      border-radius: 50%;\n",
              "      cursor: pointer;\n",
              "      display: none;\n",
              "      fill: #1967D2;\n",
              "      height: 32px;\n",
              "      padding: 0 0 0 0;\n",
              "      width: 32px;\n",
              "    }\n",
              "\n",
              "    .colab-df-convert:hover {\n",
              "      background-color: #E2EBFA;\n",
              "      box-shadow: 0px 1px 2px rgba(60, 64, 67, 0.3), 0px 1px 3px 1px rgba(60, 64, 67, 0.15);\n",
              "      fill: #174EA6;\n",
              "    }\n",
              "\n",
              "    [theme=dark] .colab-df-convert {\n",
              "      background-color: #3B4455;\n",
              "      fill: #D2E3FC;\n",
              "    }\n",
              "\n",
              "    [theme=dark] .colab-df-convert:hover {\n",
              "      background-color: #434B5C;\n",
              "      box-shadow: 0px 1px 3px 1px rgba(0, 0, 0, 0.15);\n",
              "      filter: drop-shadow(0px 1px 2px rgba(0, 0, 0, 0.3));\n",
              "      fill: #FFFFFF;\n",
              "    }\n",
              "  </style>\n",
              "\n",
              "      <script>\n",
              "        const buttonEl =\n",
              "          document.querySelector('#df-1c1ab2f7-c899-4a5a-a376-b27aa0189880 button.colab-df-convert');\n",
              "        buttonEl.style.display =\n",
              "          google.colab.kernel.accessAllowed ? 'block' : 'none';\n",
              "\n",
              "        async function convertToInteractive(key) {\n",
              "          const element = document.querySelector('#df-1c1ab2f7-c899-4a5a-a376-b27aa0189880');\n",
              "          const dataTable =\n",
              "            await google.colab.kernel.invokeFunction('convertToInteractive',\n",
              "                                                     [key], {});\n",
              "          if (!dataTable) return;\n",
              "\n",
              "          const docLinkHtml = 'Like what you see? Visit the ' +\n",
              "            '<a target=\"_blank\" href=https://colab.research.google.com/notebooks/data_table.ipynb>data table notebook</a>'\n",
              "            + ' to learn more about interactive tables.';\n",
              "          element.innerHTML = '';\n",
              "          dataTable['output_type'] = 'display_data';\n",
              "          await google.colab.output.renderOutput(dataTable, element);\n",
              "          const docLink = document.createElement('div');\n",
              "          docLink.innerHTML = docLinkHtml;\n",
              "          element.appendChild(docLink);\n",
              "        }\n",
              "      </script>\n",
              "    </div>\n",
              "  </div>\n",
              "  "
            ]
          },
          "metadata": {},
          "execution_count": 35
        }
      ]
    },
    {
      "cell_type": "code",
      "source": [
        "#We will split dataframe again , because of we trimmed stop words and we must create train and test again with them again.\n",
        "X_train, X_test, y_train, y_test = train_test_split(\n",
        "    df.preprocessed_txt, \n",
        "    df.label_num,\n",
        "    test_size=0.2, # 20% samples will go to test dataset\n",
        "    random_state=2022,\n",
        "    stratify=df.label_num\n",
        ")"
      ],
      "metadata": {
        "id": "EsW9F87EVJoD"
      },
      "execution_count": 36,
      "outputs": []
    },
    {
      "cell_type": "code",
      "source": [
        "#1. again same types with most succesful results, maybe we could reach better f1score.\n",
        "clf = Pipeline([\n",
        "     ('vectorizer_tfidf',TfidfVectorizer()),        #using the ngram_range parameter \n",
        "     ('Random Forest', RandomForestClassifier())         \n",
        "])\n",
        "\n",
        "#2. fit with X_train and y_train\n",
        "clf.fit(X_train, y_train)\n",
        "\n",
        "\n",
        "#3. get the predictions for X_test and store it in y_pred\n",
        "y_pred = clf.predict(X_test)\n",
        "\n",
        "\n",
        "#4. print the classfication report\n",
        "print(classification_report(y_test, y_pred))"
      ],
      "metadata": {
        "colab": {
          "base_uri": "https://localhost:8080/"
        },
        "id": "15YynSvoWJUS",
        "outputId": "1b8e5475-dbc7-4ec0-a2ad-0e03f7eaaab7"
      },
      "execution_count": 37,
      "outputs": [
        {
          "output_type": "stream",
          "name": "stdout",
          "text": [
            "              precision    recall  f1-score   support\n",
            "\n",
            "           0       0.90      0.89      0.89       984\n",
            "           1       0.94      0.93      0.93       983\n",
            "           2       0.93      0.92      0.93       984\n",
            "           3       0.94      0.97      0.95       984\n",
            "\n",
            "    accuracy                           0.93      3935\n",
            "   macro avg       0.93      0.93      0.93      3935\n",
            "weighted avg       0.93      0.93      0.93      3935\n",
            "\n"
          ]
        }
      ]
    },
    {
      "cell_type": "code",
      "source": [
        "#1. create a pipeline object\n",
        "clf = Pipeline([\n",
        "     ('vectorizer_tfidf',TfidfVectorizer()),    \n",
        "     ('Multi NB', MultinomialNB())         \n",
        "])\n",
        "\n",
        "#2. fit with X_train and y_train\n",
        "clf.fit(X_train, y_train)\n",
        "\n",
        "\n",
        "#3. get the predictions for X_test and store it in y_pred\n",
        "y_pred = clf.predict(X_test)\n",
        "\n",
        "\n",
        "#4. print the classfication report\n",
        "print(classification_report(y_test, y_pred))"
      ],
      "metadata": {
        "colab": {
          "base_uri": "https://localhost:8080/"
        },
        "id": "Z8Y5-kIHWdMW",
        "outputId": "ae8e7dca-2602-4880-8c50-5e66e1243b3b"
      },
      "execution_count": 38,
      "outputs": [
        {
          "output_type": "stream",
          "name": "stdout",
          "text": [
            "              precision    recall  f1-score   support\n",
            "\n",
            "           0       0.90      0.93      0.92       984\n",
            "           1       0.98      0.92      0.95       983\n",
            "           2       0.92      0.94      0.93       984\n",
            "           3       0.95      0.97      0.96       984\n",
            "\n",
            "    accuracy                           0.94      3935\n",
            "   macro avg       0.94      0.94      0.94      3935\n",
            "weighted avg       0.94      0.94      0.94      3935\n",
            "\n"
          ]
        }
      ]
    },
    {
      "cell_type": "markdown",
      "source": [
        "If you compare above classification report with respect to RandomForest Model with the one from unprocessed text, you will find some improvement in the model that uses preprocessed cleaned up text. The F1 score improved in the case of preprocessed data. Hence we can conclude that for this particular problem using preprocessing (removing stop words, lemmatization) is improving the performance of the model.\n",
        "\n",
        "Plot confusion matrix"
      ],
      "metadata": {
        "id": "I9amiU64Wz4C"
      }
    },
    {
      "cell_type": "code",
      "source": [
        "#lets check confusion matrix to see how its work\n",
        "from sklearn.metrics import confusion_matrix\n",
        "cm = confusion_matrix(y_test, y_pred)\n",
        "cm"
      ],
      "metadata": {
        "colab": {
          "base_uri": "https://localhost:8080/"
        },
        "id": "Dk44j8VuWtw0",
        "outputId": "adb31bf1-19c0-4f43-f839-a89accd3749a"
      },
      "execution_count": 39,
      "outputs": [
        {
          "output_type": "execute_result",
          "data": {
            "text/plain": [
              "array([[912,   9,  43,  20],\n",
              "       [ 33, 904,  24,  22],\n",
              "       [ 46,  11, 922,   5],\n",
              "       [ 18,   1,  12, 953]])"
            ]
          },
          "metadata": {},
          "execution_count": 39
        }
      ]
    },
    {
      "cell_type": "code",
      "source": [
        "#Lets visualize it, who dont like numbers :)\n",
        "from matplotlib import pyplot as plt\n",
        "import seaborn as sn\n",
        "plt.figure(figsize = (10,7))\n",
        "sn.heatmap(cm, annot=True, fmt='d')\n",
        "plt.xlabel('Prediction')\n",
        "plt.ylabel('Truth')"
      ],
      "metadata": {
        "colab": {
          "base_uri": "https://localhost:8080/",
          "height": 460
        },
        "id": "tztn39muW-Yf",
        "outputId": "a984f90a-c512-436d-a764-c417207b085e"
      },
      "execution_count": 40,
      "outputs": [
        {
          "output_type": "execute_result",
          "data": {
            "text/plain": [
              "Text(69.0, 0.5, 'Truth')"
            ]
          },
          "metadata": {},
          "execution_count": 40
        },
        {
          "output_type": "display_data",
          "data": {
            "text/plain": [
              "<Figure size 720x504 with 2 Axes>"
            ],
            "image/png": "[encoded data removed]"
          },
          "metadata": {
            "needs_background": "light"
          }
        }
      ]
    },
    {
      "cell_type": "markdown",
      "source": [
        "Its performing well, As you can see False predicts are dark as night and True numbers represent light as possible. Thank you for your time and consider my work :)"
      ],
      "metadata": {
        "id": "CHNsesj1b3qf"
      }
    },
    {
      "cell_type": "code",
      "source": [],
      "metadata": {
        "id": "9qMZ6n4ucMcm"
      },
      "execution_count": null,
      "outputs": []
    }
  ]
}